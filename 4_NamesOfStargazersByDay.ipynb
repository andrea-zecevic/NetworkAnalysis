{
  "nbformat": 4,
  "nbformat_minor": 0,
  "metadata": {
    "colab": {
      "provenance": [],
      "mount_file_id": "1rA70OoP6na2GBZeiV_BlkaCUXDHTe4w4",
      "authorship_tag": "ABX9TyNGIOCpgdiKkpMo3zCBKTfV"
    },
    "kernelspec": {
      "name": "python3",
      "display_name": "Python 3"
    },
    "language_info": {
      "name": "python"
    }
  },
  "cells": [
    {
      "cell_type": "code",
      "execution_count": null,
      "metadata": {
        "id": "dIx9q1J07ZHe"
      },
      "outputs": [],
      "source": [
        "import csv\n",
        "import json\n",
        "import shutil\n",
        "import requests\n",
        "import pandas as pd"
      ]
    },
    {
      "cell_type": "markdown",
      "source": [
        "#Retrieve a list of all stargazers for the top 5 repositories, chronologically"
      ],
      "metadata": {
        "id": "mUhJ7Tpa_sBw"
      }
    },
    {
      "cell_type": "code",
      "source": [
        "file_path = '/content/drive/MyDrive/PMF 2 4/STROJNO + MREŽE/Projekt_v2/top_five_repos_and_its_stargazers_by_day.csv'\n",
        "df = pd.read_csv(file_path)\n",
        "print(df.head())\n"
      ],
      "metadata": {
        "colab": {
          "base_uri": "https://localhost:8080/"
        },
        "id": "n46FQgtf9BOk",
        "outputId": "429b175b-590e-4da6-d55b-73ca3210e469"
      },
      "execution_count": null,
      "outputs": [
        {
          "output_type": "stream",
          "name": "stdout",
          "text": [
            "              full_name        date  stargazers_count  days_since_creation\n",
            "0  AmrDeveloper/ClangQL  2024-04-05                 2                    0\n",
            "1  AmrDeveloper/ClangQL  2024-04-06                22                    1\n",
            "2  AmrDeveloper/ClangQL  2024-04-07                79                    2\n",
            "3  AmrDeveloper/ClangQL  2024-04-08               113                    3\n",
            "4  AmrDeveloper/ClangQL  2024-04-09                75                    4\n"
          ]
        }
      ]
    },
    {
      "cell_type": "code",
      "source": [
        "def get_all_stargazers(owner, repo, access_token):\n",
        "    headers = {\"Authorization\": f\"token {access_token}\"}\n",
        "    stargazers = []\n",
        "    page = 1\n",
        "    per_page = 100\n",
        "\n",
        "    while True:\n",
        "        url = f\"https://api.github.com/repos/{owner}/{repo}/stargazers?page={page}&per_page={per_page}\"\n",
        "        response = requests.get(url, headers=headers)\n",
        "\n",
        "        if response.status_code == 200:\n",
        "            users = response.json()\n",
        "            if not users:\n",
        "                break\n",
        "            stargazers.extend([user['login'] for user in users])\n",
        "            page += 1\n",
        "        else:\n",
        "            print(f\"An error occurred while retrieving stargazers for {owner}/{repo}.\")\n",
        "            break\n",
        "\n",
        "    return stargazers"
      ],
      "metadata": {
        "id": "JOLatRAF-Qk1"
      },
      "execution_count": null,
      "outputs": []
    },
    {
      "cell_type": "code",
      "source": [
        "unique_full_names = df['full_name'].unique()\n",
        "\n",
        "for full_name in unique_full_names:\n",
        "    owner, repo = full_name.split('/')\n",
        "    access_token = \"YOUR_TOKEN\"\n",
        "\n",
        "    stargazers = get_all_stargazers(owner, repo, access_token)\n",
        "\n",
        "    stargazers_names_for_each_repo = pd.DataFrame({'stargazer_login': stargazers})\n",
        "    output_file_path = f'/content/drive/MyDrive/PMF 2 4/STROJNO + MREŽE/Projekt_v2/stargazers_{full_name.replace(\"/\", \"_\")}.csv'\n",
        "    stargazers_names_for_each_repo.to_csv(output_file_path, index=False)\n",
        "\n",
        "    print(f\"Saved stargazers for {full_name} to {output_file_path}\")"
      ],
      "metadata": {
        "colab": {
          "base_uri": "https://localhost:8080/"
        },
        "id": "CPw-KUmU9vtR",
        "outputId": "fef7b149-35ea-4e4a-9455-2b76ea3ef9ff"
      },
      "execution_count": null,
      "outputs": [
        {
          "output_type": "stream",
          "name": "stdout",
          "text": [
            "Saved stargazers for AmrDeveloper/ClangQL to /content/drive/MyDrive/PMF 2 4/STROJNO + MREŽE/Projekt_v2/stargazers_AmrDeveloper_ClangQL.csv\n",
            "Saved stargazers for BenjaSOL/ore-cli-gpu to /content/drive/MyDrive/PMF 2 4/STROJNO + MREŽE/Projekt_v2/stargazers_BenjaSOL_ore-cli-gpu.csv\n",
            "Saved stargazers for bluskript/nix-inspect to /content/drive/MyDrive/PMF 2 4/STROJNO + MREŽE/Projekt_v2/stargazers_bluskript_nix-inspect.csv\n",
            "Saved stargazers for tonyke-bot/ore-miner to /content/drive/MyDrive/PMF 2 4/STROJNO + MREŽE/Projekt_v2/stargazers_tonyke-bot_ore-miner.csv\n",
            "Saved stargazers for tsoding/good_training_language to /content/drive/MyDrive/PMF 2 4/STROJNO + MREŽE/Projekt_v2/stargazers_tsoding_good_training_language.csv\n"
          ]
        }
      ]
    },
    {
      "cell_type": "markdown",
      "source": [
        "#Add to each stargazer its measure of centrality"
      ],
      "metadata": {
        "id": "gsFAAmblANjm"
      }
    },
    {
      "cell_type": "code",
      "source": [
        "file_path = '/content/drive/MyDrive/PMF 2 4/STROJNO + MREŽE/Projekt_v2/new_betweenness.csv'\n",
        "df_bc = pd.read_csv(file_path)\n",
        "print(df_bc.head())"
      ],
      "metadata": {
        "colab": {
          "base_uri": "https://localhost:8080/"
        },
        "id": "zfIz8P9R-nvj",
        "outputId": "13b44288-b3fc-4090-da77-4b3cea57f0aa"
      },
      "execution_count": null,
      "outputs": [
        {
          "output_type": "stream",
          "name": "stdout",
          "text": [
            "              Node  Betweenness Centrality\n",
            "0  IndieMinimalist                0.097958\n",
            "1        antogerva                0.095741\n",
            "2        Sandalots                0.057765\n",
            "3          orociic                0.053645\n",
            "4       appfromape                0.049993\n"
          ]
        }
      ]
    },
    {
      "cell_type": "code",
      "source": [
        "def add_betweenness_to_stargazers(file_path, df_bc):\n",
        "    stargazers_df = pd.read_csv(file_path)\n",
        "\n",
        "    merged_df = stargazers_df.merge(df_bc, left_on='stargazer_login', right_on='Node', how='left')\n",
        "\n",
        "    output_file_path = file_path.replace('stargazers_', 'stargazers_with_betweenness_')\n",
        "    merged_df.to_csv(output_file_path, index=False)\n",
        "\n",
        "    print(f\"Saved stargazers with betweenness to {output_file_path}\")"
      ],
      "metadata": {
        "id": "Fv2unHlRBM_t"
      },
      "execution_count": null,
      "outputs": []
    },
    {
      "cell_type": "code",
      "source": [
        "stargazers_files = [\n",
        "    '/content/drive/MyDrive/PMF 2 4/STROJNO + MREŽE/Projekt_v2/stargazers_AmrDeveloper_ClangQL.csv',\n",
        "    '/content/drive/MyDrive/PMF 2 4/STROJNO + MREŽE/Projekt_v2/stargazers_BenjaSOL_ore-cli-gpu.csv',\n",
        "    '/content/drive/MyDrive/PMF 2 4/STROJNO + MREŽE/Projekt_v2/stargazers_bluskript_nix-inspect.csv',\n",
        "    '/content/drive/MyDrive/PMF 2 4/STROJNO + MREŽE/Projekt_v2/stargazers_tonyke-bot_ore-miner.csv',\n",
        "    '/content/drive/MyDrive/PMF 2 4/STROJNO + MREŽE/Projekt_v2/stargazers_tsoding_good_training_language.csv'\n",
        "]\n",
        "\n",
        "for file_path in stargazers_files:\n",
        "    add_betweenness_to_stargazers(file_path, df_bc)"
      ],
      "metadata": {
        "colab": {
          "base_uri": "https://localhost:8080/"
        },
        "id": "Oqbrw6q7AfjG",
        "outputId": "0fd2d587-9c5e-435c-e1e7-46b934a93a7d"
      },
      "execution_count": null,
      "outputs": [
        {
          "output_type": "stream",
          "name": "stdout",
          "text": [
            "Saved stargazers with betweenness to /content/drive/MyDrive/PMF 2 4/STROJNO + MREŽE/Projekt_v2/stargazers_with_betweenness_AmrDeveloper_ClangQL.csv\n",
            "Saved stargazers with betweenness to /content/drive/MyDrive/PMF 2 4/STROJNO + MREŽE/Projekt_v2/stargazers_with_betweenness_BenjaSOL_ore-cli-gpu.csv\n",
            "Saved stargazers with betweenness to /content/drive/MyDrive/PMF 2 4/STROJNO + MREŽE/Projekt_v2/stargazers_with_betweenness_bluskript_nix-inspect.csv\n",
            "Saved stargazers with betweenness to /content/drive/MyDrive/PMF 2 4/STROJNO + MREŽE/Projekt_v2/stargazers_with_betweenness_tonyke-bot_ore-miner.csv\n",
            "Saved stargazers with betweenness to /content/drive/MyDrive/PMF 2 4/STROJNO + MREŽE/Projekt_v2/stargazers_with_betweenness_tsoding_good_training_language.csv\n"
          ]
        }
      ]
    },
    {
      "cell_type": "code",
      "source": [],
      "metadata": {
        "id": "-gsro0LnBflw"
      },
      "execution_count": null,
      "outputs": []
    }
  ]
}