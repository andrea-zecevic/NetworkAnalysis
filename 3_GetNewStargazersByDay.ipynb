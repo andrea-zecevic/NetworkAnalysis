{
  "nbformat": 4,
  "nbformat_minor": 0,
  "metadata": {
    "colab": {
      "provenance": [],
      "mount_file_id": "1XSgO1thCR-rMsMQpF2mKPpUkxaeDRQjT",
      "authorship_tag": "ABX9TyPfjRvudhGHROcOhKYFDwum"
    },
    "kernelspec": {
      "name": "python3",
      "display_name": "Python 3"
    },
    "language_info": {
      "name": "python"
    }
  },
  "cells": [
    {
      "cell_type": "code",
      "execution_count": null,
      "metadata": {
        "id": "Zy8YyQOJwSpG"
      },
      "outputs": [],
      "source": [
        "import pandas as pd\n",
        "import networkx as nx\n",
        "import matplotlib.pyplot as plt\n",
        "import csv\n",
        "from tqdm import tqdm\n",
        "from collections import Counter"
      ]
    },
    {
      "cell_type": "markdown",
      "source": [
        "This notebook fetches the number of new stargazers per day for each repository and then aggregates and saves the data for the 5 repositories with the highest number of stargazers."
      ],
      "metadata": {
        "id": "rW_AwpuDphux"
      }
    },
    {
      "cell_type": "code",
      "source": [
        "file_path = '/content/drive/MyDrive/PMF 2 4/STROJNO + MREŽE/Data/recent_repositories_from_april.csv'\n",
        "data = pd.read_csv(file_path)\n",
        "data.head()"
      ],
      "metadata": {
        "colab": {
          "base_uri": "https://localhost:8080/",
          "height": 550
        },
        "id": "r0fbBxRVwllj",
        "outputId": "0fa277de-9a08-442a-dfe9-e58a818666e9"
      },
      "execution_count": null,
      "outputs": [
        {
          "output_type": "execute_result",
          "data": {
            "text/plain": [
              "                                          merges_url  \\\n",
              "0  https://api.github.com/repos/tonyke-bot/ore-mi...   \n",
              "1  https://api.github.com/repos/AmrDeveloper/Clan...   \n",
              "2  https://api.github.com/repos/pcwalton/offset-a...   \n",
              "3  https://api.github.com/repos/tsoding/good_trai...   \n",
              "4  https://api.github.com/repos/bluskript/nix-ins...   \n",
              "\n",
              "                                   issue_comment_url  \\\n",
              "0  https://api.github.com/repos/tonyke-bot/ore-mi...   \n",
              "1  https://api.github.com/repos/AmrDeveloper/Clan...   \n",
              "2  https://api.github.com/repos/pcwalton/offset-a...   \n",
              "3  https://api.github.com/repos/tsoding/good_trai...   \n",
              "4  https://api.github.com/repos/bluskript/nix-ins...   \n",
              "\n",
              "                                           teams_url  \\\n",
              "0  https://api.github.com/repos/tonyke-bot/ore-mi...   \n",
              "1  https://api.github.com/repos/AmrDeveloper/Clan...   \n",
              "2  https://api.github.com/repos/pcwalton/offset-a...   \n",
              "3  https://api.github.com/repos/tsoding/good_trai...   \n",
              "4  https://api.github.com/repos/bluskript/nix-ins...   \n",
              "\n",
              "                                        branches_url  size       node_id  \\\n",
              "0  https://api.github.com/repos/tonyke-bot/ore-mi...    65  R_kgDOLtn1Cw   \n",
              "1  https://api.github.com/repos/AmrDeveloper/Clan...  1657  R_kgDOLqS5ZA   \n",
              "2  https://api.github.com/repos/pcwalton/offset-a...    26  R_kgDOL1LNQQ   \n",
              "3  https://api.github.com/repos/tsoding/good_trai...  2299  R_kgDOLohbsQ   \n",
              "4  https://api.github.com/repos/bluskript/nix-ins...   207  R_kgDOLomExw   \n",
              "\n",
              "    fork  forks                                        commits_url  \\\n",
              "0  False    212  https://api.github.com/repos/tonyke-bot/ore-mi...   \n",
              "1  False      8  https://api.github.com/repos/AmrDeveloper/Clan...   \n",
              "2  False      5  https://api.github.com/repos/pcwalton/offset-a...   \n",
              "3  False      5  https://api.github.com/repos/tsoding/good_trai...   \n",
              "4  False      2  https://api.github.com/repos/bluskript/nix-ins...   \n",
              "\n",
              "                                       languages_url  ...  disabled  \\\n",
              "0  https://api.github.com/repos/tonyke-bot/ore-mi...  ...     False   \n",
              "1  https://api.github.com/repos/AmrDeveloper/Clan...  ...     False   \n",
              "2  https://api.github.com/repos/pcwalton/offset-a...  ...     False   \n",
              "3  https://api.github.com/repos/tsoding/good_trai...  ...     False   \n",
              "4  https://api.github.com/repos/bluskript/nix-ins...  ...     False   \n",
              "\n",
              "                        full_name  \\\n",
              "0            tonyke-bot/ore-miner   \n",
              "1            AmrDeveloper/ClangQL   \n",
              "2       pcwalton/offset-allocator   \n",
              "3  tsoding/good_training_language   \n",
              "4           bluskript/nix-inspect   \n",
              "\n",
              "                                      milestones_url  \\\n",
              "0  https://api.github.com/repos/tonyke-bot/ore-mi...   \n",
              "1  https://api.github.com/repos/AmrDeveloper/Clan...   \n",
              "2  https://api.github.com/repos/pcwalton/offset-a...   \n",
              "3  https://api.github.com/repos/tsoding/good_trai...   \n",
              "4  https://api.github.com/repos/bluskript/nix-ins...   \n",
              "\n",
              "                                    issue_events_url  \\\n",
              "0  https://api.github.com/repos/tonyke-bot/ore-mi...   \n",
              "1  https://api.github.com/repos/AmrDeveloper/Clan...   \n",
              "2  https://api.github.com/repos/pcwalton/offset-a...   \n",
              "3  https://api.github.com/repos/tsoding/good_trai...   \n",
              "4  https://api.github.com/repos/bluskript/nix-ins...   \n",
              "\n",
              "                                        contents_url             pushed_at  \\\n",
              "0  https://api.github.com/repos/tonyke-bot/ore-mi...  2024-04-16T02:16:07Z   \n",
              "1  https://api.github.com/repos/AmrDeveloper/Clan...  2024-05-09T01:47:39Z   \n",
              "2  https://api.github.com/repos/pcwalton/offset-a...  2024-05-02T17:54:01Z   \n",
              "3  https://api.github.com/repos/tsoding/good_trai...  2024-04-07T13:18:19Z   \n",
              "4  https://api.github.com/repos/bluskript/nix-ins...  2024-04-19T02:21:13Z   \n",
              "\n",
              "  language                                         issues_url  \\\n",
              "0     Rust  https://api.github.com/repos/tonyke-bot/ore-mi...   \n",
              "1     Rust  https://api.github.com/repos/AmrDeveloper/Clan...   \n",
              "2     Rust  https://api.github.com/repos/pcwalton/offset-a...   \n",
              "3     Rust  https://api.github.com/repos/tsoding/good_trai...   \n",
              "4     Rust  https://api.github.com/repos/bluskript/nix-ins...   \n",
              "\n",
              "                                             license  \\\n",
              "0                                                NaN   \n",
              "1  {'key': 'mit', 'name': 'MIT License', 'spdx_id...   \n",
              "2  {'key': 'mit', 'name': 'MIT License', 'spdx_id...   \n",
              "3                                                NaN   \n",
              "4  {'key': 'mit', 'name': 'MIT License', 'spdx_id...   \n",
              "\n",
              "                                         archive_url  \n",
              "0  https://api.github.com/repos/tonyke-bot/ore-mi...  \n",
              "1  https://api.github.com/repos/AmrDeveloper/Clan...  \n",
              "2  https://api.github.com/repos/pcwalton/offset-a...  \n",
              "3  https://api.github.com/repos/tsoding/good_trai...  \n",
              "4  https://api.github.com/repos/bluskript/nix-ins...  \n",
              "\n",
              "[5 rows x 80 columns]"
            ],
            "text/html": [
              "\n",
              "  <div id=\"df-69134e87-f6fd-4c3b-ad05-61c10e6d0030\" class=\"colab-df-container\">\n",
              "    <div>\n",
              "<style scoped>\n",
              "    .dataframe tbody tr th:only-of-type {\n",
              "        vertical-align: middle;\n",
              "    }\n",
              "\n",
              "    .dataframe tbody tr th {\n",
              "        vertical-align: top;\n",
              "    }\n",
              "\n",
              "    .dataframe thead th {\n",
              "        text-align: right;\n",
              "    }\n",
              "</style>\n",
              "<table border=\"1\" class=\"dataframe\">\n",
              "  <thead>\n",
              "    <tr style=\"text-align: right;\">\n",
              "      <th></th>\n",
              "      <th>merges_url</th>\n",
              "      <th>issue_comment_url</th>\n",
              "      <th>teams_url</th>\n",
              "      <th>branches_url</th>\n",
              "      <th>size</th>\n",
              "      <th>node_id</th>\n",
              "      <th>fork</th>\n",
              "      <th>forks</th>\n",
              "      <th>commits_url</th>\n",
              "      <th>languages_url</th>\n",
              "      <th>...</th>\n",
              "      <th>disabled</th>\n",
              "      <th>full_name</th>\n",
              "      <th>milestones_url</th>\n",
              "      <th>issue_events_url</th>\n",
              "      <th>contents_url</th>\n",
              "      <th>pushed_at</th>\n",
              "      <th>language</th>\n",
              "      <th>issues_url</th>\n",
              "      <th>license</th>\n",
              "      <th>archive_url</th>\n",
              "    </tr>\n",
              "  </thead>\n",
              "  <tbody>\n",
              "    <tr>\n",
              "      <th>0</th>\n",
              "      <td>https://api.github.com/repos/tonyke-bot/ore-mi...</td>\n",
              "      <td>https://api.github.com/repos/tonyke-bot/ore-mi...</td>\n",
              "      <td>https://api.github.com/repos/tonyke-bot/ore-mi...</td>\n",
              "      <td>https://api.github.com/repos/tonyke-bot/ore-mi...</td>\n",
              "      <td>65</td>\n",
              "      <td>R_kgDOLtn1Cw</td>\n",
              "      <td>False</td>\n",
              "      <td>212</td>\n",
              "      <td>https://api.github.com/repos/tonyke-bot/ore-mi...</td>\n",
              "      <td>https://api.github.com/repos/tonyke-bot/ore-mi...</td>\n",
              "      <td>...</td>\n",
              "      <td>False</td>\n",
              "      <td>tonyke-bot/ore-miner</td>\n",
              "      <td>https://api.github.com/repos/tonyke-bot/ore-mi...</td>\n",
              "      <td>https://api.github.com/repos/tonyke-bot/ore-mi...</td>\n",
              "      <td>https://api.github.com/repos/tonyke-bot/ore-mi...</td>\n",
              "      <td>2024-04-16T02:16:07Z</td>\n",
              "      <td>Rust</td>\n",
              "      <td>https://api.github.com/repos/tonyke-bot/ore-mi...</td>\n",
              "      <td>NaN</td>\n",
              "      <td>https://api.github.com/repos/tonyke-bot/ore-mi...</td>\n",
              "    </tr>\n",
              "    <tr>\n",
              "      <th>1</th>\n",
              "      <td>https://api.github.com/repos/AmrDeveloper/Clan...</td>\n",
              "      <td>https://api.github.com/repos/AmrDeveloper/Clan...</td>\n",
              "      <td>https://api.github.com/repos/AmrDeveloper/Clan...</td>\n",
              "      <td>https://api.github.com/repos/AmrDeveloper/Clan...</td>\n",
              "      <td>1657</td>\n",
              "      <td>R_kgDOLqS5ZA</td>\n",
              "      <td>False</td>\n",
              "      <td>8</td>\n",
              "      <td>https://api.github.com/repos/AmrDeveloper/Clan...</td>\n",
              "      <td>https://api.github.com/repos/AmrDeveloper/Clan...</td>\n",
              "      <td>...</td>\n",
              "      <td>False</td>\n",
              "      <td>AmrDeveloper/ClangQL</td>\n",
              "      <td>https://api.github.com/repos/AmrDeveloper/Clan...</td>\n",
              "      <td>https://api.github.com/repos/AmrDeveloper/Clan...</td>\n",
              "      <td>https://api.github.com/repos/AmrDeveloper/Clan...</td>\n",
              "      <td>2024-05-09T01:47:39Z</td>\n",
              "      <td>Rust</td>\n",
              "      <td>https://api.github.com/repos/AmrDeveloper/Clan...</td>\n",
              "      <td>{'key': 'mit', 'name': 'MIT License', 'spdx_id...</td>\n",
              "      <td>https://api.github.com/repos/AmrDeveloper/Clan...</td>\n",
              "    </tr>\n",
              "    <tr>\n",
              "      <th>2</th>\n",
              "      <td>https://api.github.com/repos/pcwalton/offset-a...</td>\n",
              "      <td>https://api.github.com/repos/pcwalton/offset-a...</td>\n",
              "      <td>https://api.github.com/repos/pcwalton/offset-a...</td>\n",
              "      <td>https://api.github.com/repos/pcwalton/offset-a...</td>\n",
              "      <td>26</td>\n",
              "      <td>R_kgDOL1LNQQ</td>\n",
              "      <td>False</td>\n",
              "      <td>5</td>\n",
              "      <td>https://api.github.com/repos/pcwalton/offset-a...</td>\n",
              "      <td>https://api.github.com/repos/pcwalton/offset-a...</td>\n",
              "      <td>...</td>\n",
              "      <td>False</td>\n",
              "      <td>pcwalton/offset-allocator</td>\n",
              "      <td>https://api.github.com/repos/pcwalton/offset-a...</td>\n",
              "      <td>https://api.github.com/repos/pcwalton/offset-a...</td>\n",
              "      <td>https://api.github.com/repos/pcwalton/offset-a...</td>\n",
              "      <td>2024-05-02T17:54:01Z</td>\n",
              "      <td>Rust</td>\n",
              "      <td>https://api.github.com/repos/pcwalton/offset-a...</td>\n",
              "      <td>{'key': 'mit', 'name': 'MIT License', 'spdx_id...</td>\n",
              "      <td>https://api.github.com/repos/pcwalton/offset-a...</td>\n",
              "    </tr>\n",
              "    <tr>\n",
              "      <th>3</th>\n",
              "      <td>https://api.github.com/repos/tsoding/good_trai...</td>\n",
              "      <td>https://api.github.com/repos/tsoding/good_trai...</td>\n",
              "      <td>https://api.github.com/repos/tsoding/good_trai...</td>\n",
              "      <td>https://api.github.com/repos/tsoding/good_trai...</td>\n",
              "      <td>2299</td>\n",
              "      <td>R_kgDOLohbsQ</td>\n",
              "      <td>False</td>\n",
              "      <td>5</td>\n",
              "      <td>https://api.github.com/repos/tsoding/good_trai...</td>\n",
              "      <td>https://api.github.com/repos/tsoding/good_trai...</td>\n",
              "      <td>...</td>\n",
              "      <td>False</td>\n",
              "      <td>tsoding/good_training_language</td>\n",
              "      <td>https://api.github.com/repos/tsoding/good_trai...</td>\n",
              "      <td>https://api.github.com/repos/tsoding/good_trai...</td>\n",
              "      <td>https://api.github.com/repos/tsoding/good_trai...</td>\n",
              "      <td>2024-04-07T13:18:19Z</td>\n",
              "      <td>Rust</td>\n",
              "      <td>https://api.github.com/repos/tsoding/good_trai...</td>\n",
              "      <td>NaN</td>\n",
              "      <td>https://api.github.com/repos/tsoding/good_trai...</td>\n",
              "    </tr>\n",
              "    <tr>\n",
              "      <th>4</th>\n",
              "      <td>https://api.github.com/repos/bluskript/nix-ins...</td>\n",
              "      <td>https://api.github.com/repos/bluskript/nix-ins...</td>\n",
              "      <td>https://api.github.com/repos/bluskript/nix-ins...</td>\n",
              "      <td>https://api.github.com/repos/bluskript/nix-ins...</td>\n",
              "      <td>207</td>\n",
              "      <td>R_kgDOLomExw</td>\n",
              "      <td>False</td>\n",
              "      <td>2</td>\n",
              "      <td>https://api.github.com/repos/bluskript/nix-ins...</td>\n",
              "      <td>https://api.github.com/repos/bluskript/nix-ins...</td>\n",
              "      <td>...</td>\n",
              "      <td>False</td>\n",
              "      <td>bluskript/nix-inspect</td>\n",
              "      <td>https://api.github.com/repos/bluskript/nix-ins...</td>\n",
              "      <td>https://api.github.com/repos/bluskript/nix-ins...</td>\n",
              "      <td>https://api.github.com/repos/bluskript/nix-ins...</td>\n",
              "      <td>2024-04-19T02:21:13Z</td>\n",
              "      <td>Rust</td>\n",
              "      <td>https://api.github.com/repos/bluskript/nix-ins...</td>\n",
              "      <td>{'key': 'mit', 'name': 'MIT License', 'spdx_id...</td>\n",
              "      <td>https://api.github.com/repos/bluskript/nix-ins...</td>\n",
              "    </tr>\n",
              "  </tbody>\n",
              "</table>\n",
              "<p>5 rows × 80 columns</p>\n",
              "</div>\n",
              "    <div class=\"colab-df-buttons\">\n",
              "\n",
              "  <div class=\"colab-df-container\">\n",
              "    <button class=\"colab-df-convert\" onclick=\"convertToInteractive('df-69134e87-f6fd-4c3b-ad05-61c10e6d0030')\"\n",
              "            title=\"Convert this dataframe to an interactive table.\"\n",
              "            style=\"display:none;\">\n",
              "\n",
              "  <svg xmlns=\"http://www.w3.org/2000/svg\" height=\"24px\" viewBox=\"0 -960 960 960\">\n",
              "    <path d=\"M120-120v-720h720v720H120Zm60-500h600v-160H180v160Zm220 220h160v-160H400v160Zm0 220h160v-160H400v160ZM180-400h160v-160H180v160Zm440 0h160v-160H620v160ZM180-180h160v-160H180v160Zm440 0h160v-160H620v160Z\"/>\n",
              "  </svg>\n",
              "    </button>\n",
              "\n",
              "  <style>\n",
              "    .colab-df-container {\n",
              "      display:flex;\n",
              "      gap: 12px;\n",
              "    }\n",
              "\n",
              "    .colab-df-convert {\n",
              "      background-color: #E8F0FE;\n",
              "      border: none;\n",
              "      border-radius: 50%;\n",
              "      cursor: pointer;\n",
              "      display: none;\n",
              "      fill: #1967D2;\n",
              "      height: 32px;\n",
              "      padding: 0 0 0 0;\n",
              "      width: 32px;\n",
              "    }\n",
              "\n",
              "    .colab-df-convert:hover {\n",
              "      background-color: #E2EBFA;\n",
              "      box-shadow: 0px 1px 2px rgba(60, 64, 67, 0.3), 0px 1px 3px 1px rgba(60, 64, 67, 0.15);\n",
              "      fill: #174EA6;\n",
              "    }\n",
              "\n",
              "    .colab-df-buttons div {\n",
              "      margin-bottom: 4px;\n",
              "    }\n",
              "\n",
              "    [theme=dark] .colab-df-convert {\n",
              "      background-color: #3B4455;\n",
              "      fill: #D2E3FC;\n",
              "    }\n",
              "\n",
              "    [theme=dark] .colab-df-convert:hover {\n",
              "      background-color: #434B5C;\n",
              "      box-shadow: 0px 1px 3px 1px rgba(0, 0, 0, 0.15);\n",
              "      filter: drop-shadow(0px 1px 2px rgba(0, 0, 0, 0.3));\n",
              "      fill: #FFFFFF;\n",
              "    }\n",
              "  </style>\n",
              "\n",
              "    <script>\n",
              "      const buttonEl =\n",
              "        document.querySelector('#df-69134e87-f6fd-4c3b-ad05-61c10e6d0030 button.colab-df-convert');\n",
              "      buttonEl.style.display =\n",
              "        google.colab.kernel.accessAllowed ? 'block' : 'none';\n",
              "\n",
              "      async function convertToInteractive(key) {\n",
              "        const element = document.querySelector('#df-69134e87-f6fd-4c3b-ad05-61c10e6d0030');\n",
              "        const dataTable =\n",
              "          await google.colab.kernel.invokeFunction('convertToInteractive',\n",
              "                                                    [key], {});\n",
              "        if (!dataTable) return;\n",
              "\n",
              "        const docLinkHtml = 'Like what you see? Visit the ' +\n",
              "          '<a target=\"_blank\" href=https://colab.research.google.com/notebooks/data_table.ipynb>data table notebook</a>'\n",
              "          + ' to learn more about interactive tables.';\n",
              "        element.innerHTML = '';\n",
              "        dataTable['output_type'] = 'display_data';\n",
              "        await google.colab.output.renderOutput(dataTable, element);\n",
              "        const docLink = document.createElement('div');\n",
              "        docLink.innerHTML = docLinkHtml;\n",
              "        element.appendChild(docLink);\n",
              "      }\n",
              "    </script>\n",
              "  </div>\n",
              "\n",
              "\n",
              "<div id=\"df-ac9e3c19-cd7b-4048-8fe9-897e2f13b6c4\">\n",
              "  <button class=\"colab-df-quickchart\" onclick=\"quickchart('df-ac9e3c19-cd7b-4048-8fe9-897e2f13b6c4')\"\n",
              "            title=\"Suggest charts\"\n",
              "            style=\"display:none;\">\n",
              "\n",
              "<svg xmlns=\"http://www.w3.org/2000/svg\" height=\"24px\"viewBox=\"0 0 24 24\"\n",
              "     width=\"24px\">\n",
              "    <g>\n",
              "        <path d=\"M19 3H5c-1.1 0-2 .9-2 2v14c0 1.1.9 2 2 2h14c1.1 0 2-.9 2-2V5c0-1.1-.9-2-2-2zM9 17H7v-7h2v7zm4 0h-2V7h2v10zm4 0h-2v-4h2v4z\"/>\n",
              "    </g>\n",
              "</svg>\n",
              "  </button>\n",
              "\n",
              "<style>\n",
              "  .colab-df-quickchart {\n",
              "      --bg-color: #E8F0FE;\n",
              "      --fill-color: #1967D2;\n",
              "      --hover-bg-color: #E2EBFA;\n",
              "      --hover-fill-color: #174EA6;\n",
              "      --disabled-fill-color: #AAA;\n",
              "      --disabled-bg-color: #DDD;\n",
              "  }\n",
              "\n",
              "  [theme=dark] .colab-df-quickchart {\n",
              "      --bg-color: #3B4455;\n",
              "      --fill-color: #D2E3FC;\n",
              "      --hover-bg-color: #434B5C;\n",
              "      --hover-fill-color: #FFFFFF;\n",
              "      --disabled-bg-color: #3B4455;\n",
              "      --disabled-fill-color: #666;\n",
              "  }\n",
              "\n",
              "  .colab-df-quickchart {\n",
              "    background-color: var(--bg-color);\n",
              "    border: none;\n",
              "    border-radius: 50%;\n",
              "    cursor: pointer;\n",
              "    display: none;\n",
              "    fill: var(--fill-color);\n",
              "    height: 32px;\n",
              "    padding: 0;\n",
              "    width: 32px;\n",
              "  }\n",
              "\n",
              "  .colab-df-quickchart:hover {\n",
              "    background-color: var(--hover-bg-color);\n",
              "    box-shadow: 0 1px 2px rgba(60, 64, 67, 0.3), 0 1px 3px 1px rgba(60, 64, 67, 0.15);\n",
              "    fill: var(--button-hover-fill-color);\n",
              "  }\n",
              "\n",
              "  .colab-df-quickchart-complete:disabled,\n",
              "  .colab-df-quickchart-complete:disabled:hover {\n",
              "    background-color: var(--disabled-bg-color);\n",
              "    fill: var(--disabled-fill-color);\n",
              "    box-shadow: none;\n",
              "  }\n",
              "\n",
              "  .colab-df-spinner {\n",
              "    border: 2px solid var(--fill-color);\n",
              "    border-color: transparent;\n",
              "    border-bottom-color: var(--fill-color);\n",
              "    animation:\n",
              "      spin 1s steps(1) infinite;\n",
              "  }\n",
              "\n",
              "  @keyframes spin {\n",
              "    0% {\n",
              "      border-color: transparent;\n",
              "      border-bottom-color: var(--fill-color);\n",
              "      border-left-color: var(--fill-color);\n",
              "    }\n",
              "    20% {\n",
              "      border-color: transparent;\n",
              "      border-left-color: var(--fill-color);\n",
              "      border-top-color: var(--fill-color);\n",
              "    }\n",
              "    30% {\n",
              "      border-color: transparent;\n",
              "      border-left-color: var(--fill-color);\n",
              "      border-top-color: var(--fill-color);\n",
              "      border-right-color: var(--fill-color);\n",
              "    }\n",
              "    40% {\n",
              "      border-color: transparent;\n",
              "      border-right-color: var(--fill-color);\n",
              "      border-top-color: var(--fill-color);\n",
              "    }\n",
              "    60% {\n",
              "      border-color: transparent;\n",
              "      border-right-color: var(--fill-color);\n",
              "    }\n",
              "    80% {\n",
              "      border-color: transparent;\n",
              "      border-right-color: var(--fill-color);\n",
              "      border-bottom-color: var(--fill-color);\n",
              "    }\n",
              "    90% {\n",
              "      border-color: transparent;\n",
              "      border-bottom-color: var(--fill-color);\n",
              "    }\n",
              "  }\n",
              "</style>\n",
              "\n",
              "  <script>\n",
              "    async function quickchart(key) {\n",
              "      const quickchartButtonEl =\n",
              "        document.querySelector('#' + key + ' button');\n",
              "      quickchartButtonEl.disabled = true;  // To prevent multiple clicks.\n",
              "      quickchartButtonEl.classList.add('colab-df-spinner');\n",
              "      try {\n",
              "        const charts = await google.colab.kernel.invokeFunction(\n",
              "            'suggestCharts', [key], {});\n",
              "      } catch (error) {\n",
              "        console.error('Error during call to suggestCharts:', error);\n",
              "      }\n",
              "      quickchartButtonEl.classList.remove('colab-df-spinner');\n",
              "      quickchartButtonEl.classList.add('colab-df-quickchart-complete');\n",
              "    }\n",
              "    (() => {\n",
              "      let quickchartButtonEl =\n",
              "        document.querySelector('#df-ac9e3c19-cd7b-4048-8fe9-897e2f13b6c4 button');\n",
              "      quickchartButtonEl.style.display =\n",
              "        google.colab.kernel.accessAllowed ? 'block' : 'none';\n",
              "    })();\n",
              "  </script>\n",
              "</div>\n",
              "    </div>\n",
              "  </div>\n"
            ],
            "application/vnd.google.colaboratory.intrinsic+json": {
              "type": "dataframe",
              "variable_name": "data"
            }
          },
          "metadata": {},
          "execution_count": 2
        }
      ]
    },
    {
      "cell_type": "code",
      "source": [
        "num_rows = len(data)\n",
        "print(\"Number of rows:\", num_rows)"
      ],
      "metadata": {
        "colab": {
          "base_uri": "https://localhost:8080/"
        },
        "id": "MWcZvqofxaOW",
        "outputId": "81729448-1a80-42fd-8cf7-96cb27d5ba6f"
      },
      "execution_count": null,
      "outputs": [
        {
          "output_type": "stream",
          "name": "stdout",
          "text": [
            "Number of rows: 50\n"
          ]
        }
      ]
    },
    {
      "cell_type": "code",
      "source": [
        "unique_repo_names = data['full_name'].nunique()\n",
        "print(f\"Number of unique repositories: {unique_repo_names}\")"
      ],
      "metadata": {
        "colab": {
          "base_uri": "https://localhost:8080/"
        },
        "id": "7T7bBWwNxkIi",
        "outputId": "48d9d974-814b-450a-e13c-b4cf4a5996e7"
      },
      "execution_count": null,
      "outputs": [
        {
          "output_type": "stream",
          "name": "stdout",
          "text": [
            "Number of unique repositories: 50\n"
          ]
        }
      ]
    },
    {
      "cell_type": "code",
      "source": [
        "total_stargazers = data['stargazers_count'].sum()\n",
        "print(\"Total number of stargazers:\", total_stargazers)"
      ],
      "metadata": {
        "colab": {
          "base_uri": "https://localhost:8080/"
        },
        "id": "XUcPfOS9xmAZ",
        "outputId": "6f298a5d-ff4b-4723-bb40-4f03bf2707b1"
      },
      "execution_count": null,
      "outputs": [
        {
          "output_type": "stream",
          "name": "stdout",
          "text": [
            "Total number of stargazers: 4499\n"
          ]
        }
      ]
    },
    {
      "cell_type": "code",
      "source": [
        "new_df = data[['full_name', 'created_at', 'stargazers_count']]\n",
        "print(new_df.head())"
      ],
      "metadata": {
        "colab": {
          "base_uri": "https://localhost:8080/"
        },
        "id": "2dN1ZuPzxoy8",
        "outputId": "400f8b2b-6cee-442d-8e7b-a5f308273073"
      },
      "execution_count": null,
      "outputs": [
        {
          "output_type": "stream",
          "name": "stdout",
          "text": [
            "                        full_name            created_at  stargazers_count\n",
            "0            tonyke-bot/ore-miner  2024-04-13T08:25:19Z               461\n",
            "1            AmrDeveloper/ClangQL  2024-04-05T14:12:53Z               428\n",
            "2       pcwalton/offset-allocator  2024-04-30T07:26:17Z               351\n",
            "3  tsoding/good_training_language  2024-04-02T01:10:37Z               317\n",
            "4           bluskript/nix-inspect  2024-04-02T05:45:28Z               244\n"
          ]
        }
      ]
    },
    {
      "cell_type": "code",
      "source": [
        "new_df['created_at'] = pd.to_datetime(new_df['created_at'])\n",
        "\n",
        "new_df['week'] = new_df['created_at'].dt.to_period('W')\n",
        "weekly_repo_counts = new_df.groupby('week').size().reset_index(name='repo_count')\n",
        "\n",
        "plt.figure(figsize=(10, 6))\n",
        "plt.bar(weekly_repo_counts['week'].astype(str), weekly_repo_counts['repo_count'], color='skyblue')\n",
        "plt.xticks(rotation=45)\n",
        "plt.xlabel('Week')\n",
        "plt.ylabel('Number of Repositories Created')\n",
        "plt.title('Number of Repositories Created per Week')\n",
        "plt.grid(axis='y')\n",
        "plt.tight_layout()\n",
        "plt.show()"
      ],
      "metadata": {
        "colab": {
          "base_uri": "https://localhost:8080/",
          "height": 850
        },
        "id": "tIt48kdAxuya",
        "outputId": "ae931ed2-b23b-4b3c-eb54-076bc81e8aa0"
      },
      "execution_count": null,
      "outputs": [
        {
          "output_type": "stream",
          "name": "stderr",
          "text": [
            "<ipython-input-8-d1097d541745>:1: SettingWithCopyWarning: \n",
            "A value is trying to be set on a copy of a slice from a DataFrame.\n",
            "Try using .loc[row_indexer,col_indexer] = value instead\n",
            "\n",
            "See the caveats in the documentation: https://pandas.pydata.org/pandas-docs/stable/user_guide/indexing.html#returning-a-view-versus-a-copy\n",
            "  new_df['created_at'] = pd.to_datetime(new_df['created_at'])\n",
            "<ipython-input-8-d1097d541745>:3: UserWarning: Converting to PeriodArray/Index representation will drop timezone information.\n",
            "  new_df['week'] = new_df['created_at'].dt.to_period('W')\n",
            "<ipython-input-8-d1097d541745>:3: SettingWithCopyWarning: \n",
            "A value is trying to be set on a copy of a slice from a DataFrame.\n",
            "Try using .loc[row_indexer,col_indexer] = value instead\n",
            "\n",
            "See the caveats in the documentation: https://pandas.pydata.org/pandas-docs/stable/user_guide/indexing.html#returning-a-view-versus-a-copy\n",
            "  new_df['week'] = new_df['created_at'].dt.to_period('W')\n"
          ]
        },
        {
          "output_type": "display_data",
          "data": {
            "text/plain": [
              "<Figure size 1000x600 with 1 Axes>"
            ],
            "image/png": "[encoded data removed]"
          },
          "metadata": {}
        }
      ]
    },
    {
      "cell_type": "code",
      "source": [
        "new_df['created_at'] = pd.to_datetime(new_df['created_at']).dt.tz_localize(None)\n",
        "end_date = pd.to_datetime('2024-04-28').tz_localize(None)\n",
        "\n",
        "filtered_df = new_df[new_df['created_at'] <= end_date]\n",
        "print(filtered_df.head())"
      ],
      "metadata": {
        "colab": {
          "base_uri": "https://localhost:8080/"
        },
        "id": "WjNo6rl4xzDQ",
        "outputId": "e67b4719-ce7f-4b9f-c811-da2b7b202836"
      },
      "execution_count": null,
      "outputs": [
        {
          "output_type": "stream",
          "name": "stdout",
          "text": [
            "                        full_name          created_at  stargazers_count  \\\n",
            "0            tonyke-bot/ore-miner 2024-04-13 08:25:19               461   \n",
            "1            AmrDeveloper/ClangQL 2024-04-05 14:12:53               428   \n",
            "3  tsoding/good_training_language 2024-04-02 01:10:37               317   \n",
            "4           bluskript/nix-inspect 2024-04-02 05:45:28               244   \n",
            "5            BenjaSOL/ore-cli-gpu 2024-04-15 01:15:23               230   \n",
            "\n",
            "                    week  \n",
            "0  2024-04-08/2024-04-14  \n",
            "1  2024-04-01/2024-04-07  \n",
            "3  2024-04-01/2024-04-07  \n",
            "4  2024-04-01/2024-04-07  \n",
            "5  2024-04-15/2024-04-21  \n"
          ]
        },
        {
          "output_type": "stream",
          "name": "stderr",
          "text": [
            "<ipython-input-9-0cdc2cbeb13d>:1: SettingWithCopyWarning: \n",
            "A value is trying to be set on a copy of a slice from a DataFrame.\n",
            "Try using .loc[row_indexer,col_indexer] = value instead\n",
            "\n",
            "See the caveats in the documentation: https://pandas.pydata.org/pandas-docs/stable/user_guide/indexing.html#returning-a-view-versus-a-copy\n",
            "  new_df['created_at'] = pd.to_datetime(new_df['created_at']).dt.tz_localize(None)\n"
          ]
        }
      ]
    },
    {
      "cell_type": "code",
      "source": [
        "num_rows = len(filtered_df)\n",
        "print(\"Number of rows:\", num_rows)"
      ],
      "metadata": {
        "colab": {
          "base_uri": "https://localhost:8080/"
        },
        "id": "WPRmzKWIx4dw",
        "outputId": "b8b9d27d-345d-4968-83bd-62f1dfedd645"
      },
      "execution_count": null,
      "outputs": [
        {
          "output_type": "stream",
          "name": "stdout",
          "text": [
            "Number of rows: 43\n"
          ]
        }
      ]
    },
    {
      "cell_type": "code",
      "source": [
        "print(filtered_df['full_name'].tolist())"
      ],
      "metadata": {
        "colab": {
          "base_uri": "https://localhost:8080/"
        },
        "id": "yiR2seFix-5w",
        "outputId": "315f4c78-2f4a-4dae-834c-d79fe150fac7"
      },
      "execution_count": null,
      "outputs": [
        {
          "output_type": "stream",
          "name": "stdout",
          "text": [
            "['tonyke-bot/ore-miner', 'AmrDeveloper/ClangQL', 'tsoding/good_training_language', 'bluskript/nix-inspect', 'BenjaSOL/ore-cli-gpu', 'obhq/jailbreak-11', 'achristmascarl/three_body', 'TanTanDev/binary_greedy_mesher_demo', 'ninja-quant/ninjabook', 'say4n/jf', 'rosedblabs/rust-practice', 'shenjinti/fgpt', 'utnet-org/utility', 'integration-os/integrationos', 'lapce/tiron', 'frostb1ten/CVE-2024-24576-PoC', 'nwaliaez/ascii_art', 'gold-silver-copper/ratatui_egui_wasm', 'a16z/zkvm-benchmarks', 'sarah-ek/diol', 'biomejs/biome-zed', 'vyfor/cord.nvim', 'Decurity/tx-coverage', 'Oldwarma/memento-master', 'adam-mcdaniel/music-generation', 'AugmendTech/Snippy', 'mathetake/tvisor', 'sommerfelddev/sentrum', 'Parms-Crypto/CUDA-ORE-DUMP', 'buffalojoec/modular-svm', 'henke443/fast-graph', 'Kharos102/interceptor', 'risechain/block-stm-revm', 'zesterer/ffd', 'mcmah309/error_set', 'cygaar/inkmate', 'etherhood/Liquidator-Morpho', 'arun11299/How-not-to-async-rs', 'sleeprite/rudis', 'zemse/forge-flamegraph', 'mattatz/curvo', 'IncredibleDevHQ/Incredible.dev', 'kamyar1979/rust-dyn-proxy']\n"
          ]
        }
      ]
    },
    {
      "cell_type": "code",
      "source": [
        "from datetime import datetime, timedelta\n",
        "import requests\n",
        "\n",
        "def get_stargazers(repo_full_name):\n",
        "    url = \"https://api.opensauced.pizza/v2/histogram/stars\"\n",
        "    params = {\n",
        "        \"range\": 90,\n",
        "        \"prev_days_start_date\": 0,\n",
        "        \"width\": 1,\n",
        "        \"repo\": repo_full_name,\n",
        "        \"orderDirection\": \"ASC\"\n",
        "    }\n",
        "    response = requests.get(url, params=params)\n",
        "    if response.status_code == 200:\n",
        "        return response.json()\n",
        "    else:\n",
        "        print(f\"Failed to retrieve data for {repo_full_name}\")\n",
        "        return None\n",
        "\n",
        "# data_frame = pd.read_csv(\"/content/drive/MyDrive/PMF 2 4/STROJNO + MREŽE/Data/recent_repositories_from_april.csv\")\n",
        "filtered_df['created_at'] = pd.to_datetime(filtered_df['created_at'])\n",
        "\n",
        "stargazers_data = []\n",
        "\n",
        "for index, row in filtered_df.iterrows():\n",
        "    repo_full_name = row['full_name']\n",
        "    creation_date = row['created_at']\n",
        "\n",
        "    stargazers_info = get_stargazers(repo_full_name)\n",
        "\n",
        "    if stargazers_info:\n",
        "        for entry in stargazers_info:\n",
        "            date_str = entry['bucket']\n",
        "            stargazers_count = entry['star_count']\n",
        "\n",
        "            date_str = date_str.split('T')[0]\n",
        "\n",
        "            date = datetime.strptime(date_str, \"%Y-%m-%d\").date()\n",
        "            days_since_creation = (date - creation_date.date()).days\n",
        "\n",
        "            stargazers_data.append({\n",
        "                'full_name': repo_full_name,\n",
        "                'date': date,\n",
        "                'stargazers_count': stargazers_count,\n",
        "                'days_since_creation': days_since_creation\n",
        "            })\n",
        "\n",
        "stargazers_df = pd.DataFrame(stargazers_data)\n",
        "print(stargazers_df)"
      ],
      "metadata": {
        "colab": {
          "base_uri": "https://localhost:8080/"
        },
        "id": "uFehp7SfyBAn",
        "outputId": "8cc9b656-48c4-4e82-ac0c-c4febe55cfa0"
      },
      "execution_count": null,
      "outputs": [
        {
          "output_type": "stream",
          "name": "stderr",
          "text": [
            "<ipython-input-12-1c5ca8d42166>:21: SettingWithCopyWarning: \n",
            "A value is trying to be set on a copy of a slice from a DataFrame.\n",
            "Try using .loc[row_indexer,col_indexer] = value instead\n",
            "\n",
            "See the caveats in the documentation: https://pandas.pydata.org/pandas-docs/stable/user_guide/indexing.html#returning-a-view-versus-a-copy\n",
            "  filtered_df['created_at'] = pd.to_datetime(filtered_df['created_at'])\n"
          ]
        },
        {
          "output_type": "stream",
          "name": "stdout",
          "text": [
            "                     full_name        date  stargazers_count  \\\n",
            "0         tonyke-bot/ore-miner  2024-04-13                70   \n",
            "1         tonyke-bot/ore-miner  2024-04-14               115   \n",
            "2         tonyke-bot/ore-miner  2024-04-15                63   \n",
            "3         tonyke-bot/ore-miner  2024-04-16               110   \n",
            "4         tonyke-bot/ore-miner  2024-04-17                72   \n",
            "..                         ...         ...               ...   \n",
            "821  kamyar1979/rust-dyn-proxy  2024-04-25                 1   \n",
            "822  kamyar1979/rust-dyn-proxy  2024-04-26                 1   \n",
            "823  kamyar1979/rust-dyn-proxy  2024-04-28                 2   \n",
            "824  kamyar1979/rust-dyn-proxy  2024-05-18                 1   \n",
            "825  kamyar1979/rust-dyn-proxy  2024-06-04                 1   \n",
            "\n",
            "     days_since_creation  \n",
            "0                      0  \n",
            "1                      1  \n",
            "2                      2  \n",
            "3                      3  \n",
            "4                      4  \n",
            "..                   ...  \n",
            "821                   19  \n",
            "822                   20  \n",
            "823                   22  \n",
            "824                   42  \n",
            "825                   59  \n",
            "\n",
            "[826 rows x 4 columns]\n"
          ]
        }
      ]
    },
    {
      "cell_type": "code",
      "source": [
        "unique_days_since_creation = stargazers_df['days_since_creation'].unique()\n",
        "print(unique_days_since_creation)"
      ],
      "metadata": {
        "colab": {
          "base_uri": "https://localhost:8080/"
        },
        "id": "t3EJhK-vyjlS",
        "outputId": "dc491a9b-6e4b-410b-f389-220bca569233"
      },
      "execution_count": null,
      "outputs": [
        {
          "output_type": "stream",
          "name": "stdout",
          "text": [
            "[  0   1   2   3   4   5   6   7   8  10  15  22  24  27  31  42  48  50\n",
            "  53  60   9  11  12  13  16  18  19  21  23  26  29  33  34  35  36  37\n",
            "  38  39  45  52  58  61  67  68  69  70  71  14  17  20  25  28  30  32\n",
            "  40  41  43  44  46  47  49  54  55  56  57  59  63  64  66  74  75  51\n",
            "  65  72  73  -3  -2  -1  62 -10  -9]\n"
          ]
        }
      ]
    },
    {
      "cell_type": "code",
      "source": [
        "num_unique_days_since_creation = len(unique_days_since_creation)\n",
        "print(num_unique_days_since_creation)"
      ],
      "metadata": {
        "colab": {
          "base_uri": "https://localhost:8080/"
        },
        "id": "hJ8wradyysdd",
        "outputId": "09824605-d10e-4c89-a235-521d88eb647c"
      },
      "execution_count": null,
      "outputs": [
        {
          "output_type": "stream",
          "name": "stdout",
          "text": [
            "81\n"
          ]
        }
      ]
    },
    {
      "cell_type": "code",
      "source": [
        "value_counts_days_since_creation = stargazers_df['days_since_creation'].value_counts()\n",
        "print(value_counts_days_since_creation)"
      ],
      "metadata": {
        "colab": {
          "base_uri": "https://localhost:8080/"
        },
        "id": "eY3fAqmxyxus",
        "outputId": "3e21b0db-4f65-468b-9536-20a7ef3555cd"
      },
      "execution_count": null,
      "outputs": [
        {
          "output_type": "stream",
          "name": "stdout",
          "text": [
            "days_since_creation\n",
            " 3     31\n",
            " 4     31\n",
            " 1     30\n",
            " 2     28\n",
            " 5     28\n",
            "       ..\n",
            " 74     1\n",
            "-2      1\n",
            "-3      1\n",
            " 75     1\n",
            "-9      1\n",
            "Name: count, Length: 81, dtype: int64\n"
          ]
        }
      ]
    },
    {
      "cell_type": "code",
      "source": [
        "print(value_counts_days_since_creation.head(30))"
      ],
      "metadata": {
        "colab": {
          "base_uri": "https://localhost:8080/"
        },
        "id": "b36_sEoTy0Xz",
        "outputId": "4eed3cd3-d378-4eb0-ab26-78e6900eeabe"
      },
      "execution_count": null,
      "outputs": [
        {
          "output_type": "stream",
          "name": "stdout",
          "text": [
            "days_since_creation\n",
            "3     31\n",
            "4     31\n",
            "1     30\n",
            "2     28\n",
            "5     28\n",
            "7     26\n",
            "6     25\n",
            "14    24\n",
            "0     23\n",
            "8     23\n",
            "11    22\n",
            "9     20\n",
            "10    19\n",
            "15    19\n",
            "12    17\n",
            "17    17\n",
            "16    17\n",
            "23    16\n",
            "20    16\n",
            "13    16\n",
            "26    14\n",
            "18    13\n",
            "27    13\n",
            "19    12\n",
            "21    12\n",
            "22    12\n",
            "41    11\n",
            "34    11\n",
            "35    11\n",
            "25    10\n",
            "Name: count, dtype: int64\n"
          ]
        }
      ]
    },
    {
      "cell_type": "code",
      "source": [
        "stargazers_df = stargazers_df[stargazers_df['days_since_creation'] <= 30]\n",
        "print(stargazers_df)"
      ],
      "metadata": {
        "colab": {
          "base_uri": "https://localhost:8080/"
        },
        "id": "I7yHmaMI6MhQ",
        "outputId": "408c8d28-cca4-4ce4-fb20-4053434b5a86"
      },
      "execution_count": null,
      "outputs": [
        {
          "output_type": "stream",
          "name": "stdout",
          "text": [
            "                     full_name        date  stargazers_count  \\\n",
            "0         tonyke-bot/ore-miner  2024-04-13                70   \n",
            "1         tonyke-bot/ore-miner  2024-04-14               115   \n",
            "2         tonyke-bot/ore-miner  2024-04-15                63   \n",
            "3         tonyke-bot/ore-miner  2024-04-16               110   \n",
            "4         tonyke-bot/ore-miner  2024-04-17                72   \n",
            "..                         ...         ...               ...   \n",
            "819  kamyar1979/rust-dyn-proxy  2024-04-22                 4   \n",
            "820  kamyar1979/rust-dyn-proxy  2024-04-23                 2   \n",
            "821  kamyar1979/rust-dyn-proxy  2024-04-25                 1   \n",
            "822  kamyar1979/rust-dyn-proxy  2024-04-26                 1   \n",
            "823  kamyar1979/rust-dyn-proxy  2024-04-28                 2   \n",
            "\n",
            "     days_since_creation  \n",
            "0                      0  \n",
            "1                      1  \n",
            "2                      2  \n",
            "3                      3  \n",
            "4                      4  \n",
            "..                   ...  \n",
            "819                   16  \n",
            "820                   17  \n",
            "821                   19  \n",
            "822                   20  \n",
            "823                   22  \n",
            "\n",
            "[575 rows x 4 columns]\n"
          ]
        }
      ]
    },
    {
      "cell_type": "code",
      "source": [
        "unique_days_since_creation = stargazers_df['days_since_creation'].unique()\n",
        "print(unique_days_since_creation)"
      ],
      "metadata": {
        "colab": {
          "base_uri": "https://localhost:8080/"
        },
        "id": "rAH4agPE6YTu",
        "outputId": "cf7f4d65-4c23-4e94-b20e-b2749c5808b3"
      },
      "execution_count": null,
      "outputs": [
        {
          "output_type": "stream",
          "name": "stdout",
          "text": [
            "[  0   1   2   3   4   5   6   7   8  10  15  22  24  27   9  11  12  13\n",
            "  16  18  19  21  23  26  29  14  17  20  25  28  30  -3  -2  -1 -10  -9]\n"
          ]
        }
      ]
    },
    {
      "cell_type": "code",
      "source": [
        "negative_days_since_creation = stargazers_df[stargazers_df['days_since_creation'] < 0]\n",
        "print(negative_days_since_creation)"
      ],
      "metadata": {
        "colab": {
          "base_uri": "https://localhost:8080/"
        },
        "id": "uCfl7Ddx6dYB",
        "outputId": "97567557-d550-4d41-991a-f3e3e6f32698"
      },
      "execution_count": null,
      "outputs": [
        {
          "output_type": "stream",
          "name": "stdout",
          "text": [
            "             full_name        date  stargazers_count  days_since_creation\n",
            "358  utnet-org/utility  2024-03-31               112                   -3\n",
            "359  utnet-org/utility  2024-04-01                 4                   -2\n",
            "360  utnet-org/utility  2024-04-02                 3                   -1\n",
            "549    vyfor/cord.nvim  2024-03-28                 1                  -10\n",
            "550    vyfor/cord.nvim  2024-03-29                 1                   -9\n"
          ]
        }
      ]
    },
    {
      "cell_type": "code",
      "source": [
        "repos_to_exclude = ['utnet-org/utility', 'vyfor/cord.nvim']\n",
        "filtered_df = stargazers_df[~stargazers_df['full_name'].isin(repos_to_exclude)]\n",
        "\n",
        "print(filtered_df)"
      ],
      "metadata": {
        "colab": {
          "base_uri": "https://localhost:8080/"
        },
        "id": "ulO2uzmy6f32",
        "outputId": "9cad6a42-c6ef-4eb3-8b01-cb0f986d6e75"
      },
      "execution_count": null,
      "outputs": [
        {
          "output_type": "stream",
          "name": "stdout",
          "text": [
            "                     full_name        date  stargazers_count  \\\n",
            "0         tonyke-bot/ore-miner  2024-04-13                70   \n",
            "1         tonyke-bot/ore-miner  2024-04-14               115   \n",
            "2         tonyke-bot/ore-miner  2024-04-15                63   \n",
            "3         tonyke-bot/ore-miner  2024-04-16               110   \n",
            "4         tonyke-bot/ore-miner  2024-04-17                72   \n",
            "..                         ...         ...               ...   \n",
            "819  kamyar1979/rust-dyn-proxy  2024-04-22                 4   \n",
            "820  kamyar1979/rust-dyn-proxy  2024-04-23                 2   \n",
            "821  kamyar1979/rust-dyn-proxy  2024-04-25                 1   \n",
            "822  kamyar1979/rust-dyn-proxy  2024-04-26                 1   \n",
            "823  kamyar1979/rust-dyn-proxy  2024-04-28                 2   \n",
            "\n",
            "     days_since_creation  \n",
            "0                      0  \n",
            "1                      1  \n",
            "2                      2  \n",
            "3                      3  \n",
            "4                      4  \n",
            "..                   ...  \n",
            "819                   16  \n",
            "820                   17  \n",
            "821                   19  \n",
            "822                   20  \n",
            "823                   22  \n",
            "\n",
            "[534 rows x 4 columns]\n"
          ]
        }
      ]
    },
    {
      "cell_type": "code",
      "source": [
        "unique_days_since_creation = filtered_df['days_since_creation'].unique()\n",
        "print(unique_days_since_creation)"
      ],
      "metadata": {
        "colab": {
          "base_uri": "https://localhost:8080/"
        },
        "id": "I5xmrfVE7Hmc",
        "outputId": "8a471ae2-aec2-4047-c72f-ab48596ed683"
      },
      "execution_count": null,
      "outputs": [
        {
          "output_type": "stream",
          "name": "stdout",
          "text": [
            "[ 0  1  2  3  4  5  6  7  8 10 15 22 24 27  9 11 12 13 16 18 19 21 23 26\n",
            " 29 14 17 20 25 28 30]\n"
          ]
        }
      ]
    },
    {
      "cell_type": "code",
      "source": [
        "complete_days_set = set(range(1, 31))\n",
        "\n",
        "all_combinations = []\n",
        "for full_name in filtered_df['full_name'].unique():\n",
        "    existing_days = set(filtered_df[filtered_df['full_name'] == full_name]['days_since_creation'])\n",
        "    missing_days = complete_days_set - existing_days\n",
        "    for day in missing_days:\n",
        "        all_combinations.append({'full_name': full_name, 'days_since_creation': day, 'stargazers_count': 0})\n",
        "\n",
        "complete_df = pd.concat([filtered_df, pd.DataFrame(all_combinations)], ignore_index=True)\n",
        "\n",
        "complete_df['stargazers_count'].fillna(0, inplace=True)\n",
        "\n",
        "complete_df.sort_values(by=['full_name', 'days_since_creation'], inplace=True)\n",
        "\n",
        "complete_df.reset_index(drop=True, inplace=True)\n",
        "\n",
        "print(complete_df)"
      ],
      "metadata": {
        "colab": {
          "base_uri": "https://localhost:8080/"
        },
        "id": "qOKtcHA97M4q",
        "outputId": "f7c71ead-fa19-4255-ee27-1271d37bd11f"
      },
      "execution_count": null,
      "outputs": [
        {
          "output_type": "stream",
          "name": "stdout",
          "text": [
            "                 full_name        date  stargazers_count  days_since_creation\n",
            "0     AmrDeveloper/ClangQL  2024-04-05                 2                    0\n",
            "1     AmrDeveloper/ClangQL  2024-04-06                22                    1\n",
            "2     AmrDeveloper/ClangQL  2024-04-07                79                    2\n",
            "3     AmrDeveloper/ClangQL  2024-04-08               113                    3\n",
            "4     AmrDeveloper/ClangQL  2024-04-09                75                    4\n",
            "...                    ...         ...               ...                  ...\n",
            "1247          zesterer/ffd         NaN                 0                   26\n",
            "1248          zesterer/ffd         NaN                 0                   27\n",
            "1249          zesterer/ffd         NaN                 0                   28\n",
            "1250          zesterer/ffd         NaN                 0                   29\n",
            "1251          zesterer/ffd         NaN                 0                   30\n",
            "\n",
            "[1252 rows x 4 columns]\n"
          ]
        }
      ]
    },
    {
      "cell_type": "code",
      "source": [
        "value_counts_days_since_creation = complete_df['days_since_creation'].value_counts()\n",
        "print(value_counts_days_since_creation)"
      ],
      "metadata": {
        "colab": {
          "base_uri": "https://localhost:8080/"
        },
        "id": "bQiWf4E67iiL",
        "outputId": "bee3aac6-6e4a-461d-90af-9762323f2afb"
      },
      "execution_count": null,
      "outputs": [
        {
          "output_type": "stream",
          "name": "stdout",
          "text": [
            "days_since_creation\n",
            "15    41\n",
            "16    41\n",
            "29    41\n",
            "28    41\n",
            "27    41\n",
            "26    41\n",
            "25    41\n",
            "24    41\n",
            "23    41\n",
            "22    41\n",
            "21    41\n",
            "20    41\n",
            "19    41\n",
            "18    41\n",
            "17    41\n",
            "30    41\n",
            "1     41\n",
            "14    41\n",
            "13    41\n",
            "12    41\n",
            "11    41\n",
            "10    41\n",
            "9     41\n",
            "8     41\n",
            "7     41\n",
            "6     41\n",
            "5     41\n",
            "4     41\n",
            "3     41\n",
            "2     41\n",
            "0     22\n",
            "Name: count, dtype: int64\n"
          ]
        }
      ]
    },
    {
      "cell_type": "code",
      "source": [
        "unique_full_names_num = complete_df['full_name'].nunique()\n",
        "print(unique_full_names_num)"
      ],
      "metadata": {
        "colab": {
          "base_uri": "https://localhost:8080/"
        },
        "id": "HSGceuwg7uMj",
        "outputId": "ef4366c8-467e-4204-a4f6-f3683822a548"
      },
      "execution_count": null,
      "outputs": [
        {
          "output_type": "stream",
          "name": "stdout",
          "text": [
            "41\n"
          ]
        }
      ]
    },
    {
      "cell_type": "code",
      "source": [
        "unique_days_since_creation = complete_df['days_since_creation'].nunique()\n",
        "print(unique_days_since_creation)"
      ],
      "metadata": {
        "colab": {
          "base_uri": "https://localhost:8080/"
        },
        "id": "YyTEACAD7-Ox",
        "outputId": "d6af9023-db2c-49ab-ee92-5889570a9812"
      },
      "execution_count": null,
      "outputs": [
        {
          "output_type": "stream",
          "name": "stdout",
          "text": [
            "31\n"
          ]
        }
      ]
    },
    {
      "cell_type": "code",
      "source": [
        "complete_df.tail(40)"
      ],
      "metadata": {
        "colab": {
          "base_uri": "https://localhost:8080/",
          "height": 1000
        },
        "id": "0KkPd5k47__B",
        "outputId": "74557a18-f210-474e-90c9-1381cb536d94"
      },
      "execution_count": null,
      "outputs": [
        {
          "output_type": "execute_result",
          "data": {
            "text/plain": [
              "                   full_name        date  stargazers_count  \\\n",
              "1212  zemse/forge-flamegraph         NaN                 0   \n",
              "1213  zemse/forge-flamegraph         NaN                 0   \n",
              "1214  zemse/forge-flamegraph         NaN                 0   \n",
              "1215  zemse/forge-flamegraph         NaN                 0   \n",
              "1216  zemse/forge-flamegraph         NaN                 0   \n",
              "1217  zemse/forge-flamegraph         NaN                 0   \n",
              "1218  zemse/forge-flamegraph         NaN                 0   \n",
              "1219  zemse/forge-flamegraph         NaN                 0   \n",
              "1220  zemse/forge-flamegraph         NaN                 0   \n",
              "1221            zesterer/ffd  2024-04-06                 9   \n",
              "1222            zesterer/ffd  2024-04-07                13   \n",
              "1223            zesterer/ffd  2024-04-08                 6   \n",
              "1224            zesterer/ffd  2024-04-09                 1   \n",
              "1225            zesterer/ffd         NaN                 0   \n",
              "1226            zesterer/ffd         NaN                 0   \n",
              "1227            zesterer/ffd  2024-04-12                 1   \n",
              "1228            zesterer/ffd         NaN                 0   \n",
              "1229            zesterer/ffd         NaN                 0   \n",
              "1230            zesterer/ffd         NaN                 0   \n",
              "1231            zesterer/ffd         NaN                 0   \n",
              "1232            zesterer/ffd         NaN                 0   \n",
              "1233            zesterer/ffd         NaN                 0   \n",
              "1234            zesterer/ffd         NaN                 0   \n",
              "1235            zesterer/ffd         NaN                 0   \n",
              "1236            zesterer/ffd         NaN                 0   \n",
              "1237            zesterer/ffd         NaN                 0   \n",
              "1238            zesterer/ffd         NaN                 0   \n",
              "1239            zesterer/ffd         NaN                 0   \n",
              "1240            zesterer/ffd         NaN                 0   \n",
              "1241            zesterer/ffd         NaN                 0   \n",
              "1242            zesterer/ffd         NaN                 0   \n",
              "1243            zesterer/ffd         NaN                 0   \n",
              "1244            zesterer/ffd         NaN                 0   \n",
              "1245            zesterer/ffd         NaN                 0   \n",
              "1246            zesterer/ffd         NaN                 0   \n",
              "1247            zesterer/ffd         NaN                 0   \n",
              "1248            zesterer/ffd         NaN                 0   \n",
              "1249            zesterer/ffd         NaN                 0   \n",
              "1250            zesterer/ffd         NaN                 0   \n",
              "1251            zesterer/ffd         NaN                 0   \n",
              "\n",
              "      days_since_creation  \n",
              "1212                   22  \n",
              "1213                   23  \n",
              "1214                   24  \n",
              "1215                   25  \n",
              "1216                   26  \n",
              "1217                   27  \n",
              "1218                   28  \n",
              "1219                   29  \n",
              "1220                   30  \n",
              "1221                    0  \n",
              "1222                    1  \n",
              "1223                    2  \n",
              "1224                    3  \n",
              "1225                    4  \n",
              "1226                    5  \n",
              "1227                    6  \n",
              "1228                    7  \n",
              "1229                    8  \n",
              "1230                    9  \n",
              "1231                   10  \n",
              "1232                   11  \n",
              "1233                   12  \n",
              "1234                   13  \n",
              "1235                   14  \n",
              "1236                   15  \n",
              "1237                   16  \n",
              "1238                   17  \n",
              "1239                   18  \n",
              "1240                   19  \n",
              "1241                   20  \n",
              "1242                   21  \n",
              "1243                   22  \n",
              "1244                   23  \n",
              "1245                   24  \n",
              "1246                   25  \n",
              "1247                   26  \n",
              "1248                   27  \n",
              "1249                   28  \n",
              "1250                   29  \n",
              "1251                   30  "
            ],
            "text/html": [
              "\n",
              "  <div id=\"df-5ecb0575-6432-4b0b-b889-a723dcb9b175\" class=\"colab-df-container\">\n",
              "    <div>\n",
              "<style scoped>\n",
              "    .dataframe tbody tr th:only-of-type {\n",
              "        vertical-align: middle;\n",
              "    }\n",
              "\n",
              "    .dataframe tbody tr th {\n",
              "        vertical-align: top;\n",
              "    }\n",
              "\n",
              "    .dataframe thead th {\n",
              "        text-align: right;\n",
              "    }\n",
              "</style>\n",
              "<table border=\"1\" class=\"dataframe\">\n",
              "  <thead>\n",
              "    <tr style=\"text-align: right;\">\n",
              "      <th></th>\n",
              "      <th>full_name</th>\n",
              "      <th>date</th>\n",
              "      <th>stargazers_count</th>\n",
              "      <th>days_since_creation</th>\n",
              "    </tr>\n",
              "  </thead>\n",
              "  <tbody>\n",
              "    <tr>\n",
              "      <th>1212</th>\n",
              "      <td>zemse/forge-flamegraph</td>\n",
              "      <td>NaN</td>\n",
              "      <td>0</td>\n",
              "      <td>22</td>\n",
              "    </tr>\n",
              "    <tr>\n",
              "      <th>1213</th>\n",
              "      <td>zemse/forge-flamegraph</td>\n",
              "      <td>NaN</td>\n",
              "      <td>0</td>\n",
              "      <td>23</td>\n",
              "    </tr>\n",
              "    <tr>\n",
              "      <th>1214</th>\n",
              "      <td>zemse/forge-flamegraph</td>\n",
              "      <td>NaN</td>\n",
              "      <td>0</td>\n",
              "      <td>24</td>\n",
              "    </tr>\n",
              "    <tr>\n",
              "      <th>1215</th>\n",
              "      <td>zemse/forge-flamegraph</td>\n",
              "      <td>NaN</td>\n",
              "      <td>0</td>\n",
              "      <td>25</td>\n",
              "    </tr>\n",
              "    <tr>\n",
              "      <th>1216</th>\n",
              "      <td>zemse/forge-flamegraph</td>\n",
              "      <td>NaN</td>\n",
              "      <td>0</td>\n",
              "      <td>26</td>\n",
              "    </tr>\n",
              "    <tr>\n",
              "      <th>1217</th>\n",
              "      <td>zemse/forge-flamegraph</td>\n",
              "      <td>NaN</td>\n",
              "      <td>0</td>\n",
              "      <td>27</td>\n",
              "    </tr>\n",
              "    <tr>\n",
              "      <th>1218</th>\n",
              "      <td>zemse/forge-flamegraph</td>\n",
              "      <td>NaN</td>\n",
              "      <td>0</td>\n",
              "      <td>28</td>\n",
              "    </tr>\n",
              "    <tr>\n",
              "      <th>1219</th>\n",
              "      <td>zemse/forge-flamegraph</td>\n",
              "      <td>NaN</td>\n",
              "      <td>0</td>\n",
              "      <td>29</td>\n",
              "    </tr>\n",
              "    <tr>\n",
              "      <th>1220</th>\n",
              "      <td>zemse/forge-flamegraph</td>\n",
              "      <td>NaN</td>\n",
              "      <td>0</td>\n",
              "      <td>30</td>\n",
              "    </tr>\n",
              "    <tr>\n",
              "      <th>1221</th>\n",
              "      <td>zesterer/ffd</td>\n",
              "      <td>2024-04-06</td>\n",
              "      <td>9</td>\n",
              "      <td>0</td>\n",
              "    </tr>\n",
              "    <tr>\n",
              "      <th>1222</th>\n",
              "      <td>zesterer/ffd</td>\n",
              "      <td>2024-04-07</td>\n",
              "      <td>13</td>\n",
              "      <td>1</td>\n",
              "    </tr>\n",
              "    <tr>\n",
              "      <th>1223</th>\n",
              "      <td>zesterer/ffd</td>\n",
              "      <td>2024-04-08</td>\n",
              "      <td>6</td>\n",
              "      <td>2</td>\n",
              "    </tr>\n",
              "    <tr>\n",
              "      <th>1224</th>\n",
              "      <td>zesterer/ffd</td>\n",
              "      <td>2024-04-09</td>\n",
              "      <td>1</td>\n",
              "      <td>3</td>\n",
              "    </tr>\n",
              "    <tr>\n",
              "      <th>1225</th>\n",
              "      <td>zesterer/ffd</td>\n",
              "      <td>NaN</td>\n",
              "      <td>0</td>\n",
              "      <td>4</td>\n",
              "    </tr>\n",
              "    <tr>\n",
              "      <th>1226</th>\n",
              "      <td>zesterer/ffd</td>\n",
              "      <td>NaN</td>\n",
              "      <td>0</td>\n",
              "      <td>5</td>\n",
              "    </tr>\n",
              "    <tr>\n",
              "      <th>1227</th>\n",
              "      <td>zesterer/ffd</td>\n",
              "      <td>2024-04-12</td>\n",
              "      <td>1</td>\n",
              "      <td>6</td>\n",
              "    </tr>\n",
              "    <tr>\n",
              "      <th>1228</th>\n",
              "      <td>zesterer/ffd</td>\n",
              "      <td>NaN</td>\n",
              "      <td>0</td>\n",
              "      <td>7</td>\n",
              "    </tr>\n",
              "    <tr>\n",
              "      <th>1229</th>\n",
              "      <td>zesterer/ffd</td>\n",
              "      <td>NaN</td>\n",
              "      <td>0</td>\n",
              "      <td>8</td>\n",
              "    </tr>\n",
              "    <tr>\n",
              "      <th>1230</th>\n",
              "      <td>zesterer/ffd</td>\n",
              "      <td>NaN</td>\n",
              "      <td>0</td>\n",
              "      <td>9</td>\n",
              "    </tr>\n",
              "    <tr>\n",
              "      <th>1231</th>\n",
              "      <td>zesterer/ffd</td>\n",
              "      <td>NaN</td>\n",
              "      <td>0</td>\n",
              "      <td>10</td>\n",
              "    </tr>\n",
              "    <tr>\n",
              "      <th>1232</th>\n",
              "      <td>zesterer/ffd</td>\n",
              "      <td>NaN</td>\n",
              "      <td>0</td>\n",
              "      <td>11</td>\n",
              "    </tr>\n",
              "    <tr>\n",
              "      <th>1233</th>\n",
              "      <td>zesterer/ffd</td>\n",
              "      <td>NaN</td>\n",
              "      <td>0</td>\n",
              "      <td>12</td>\n",
              "    </tr>\n",
              "    <tr>\n",
              "      <th>1234</th>\n",
              "      <td>zesterer/ffd</td>\n",
              "      <td>NaN</td>\n",
              "      <td>0</td>\n",
              "      <td>13</td>\n",
              "    </tr>\n",
              "    <tr>\n",
              "      <th>1235</th>\n",
              "      <td>zesterer/ffd</td>\n",
              "      <td>NaN</td>\n",
              "      <td>0</td>\n",
              "      <td>14</td>\n",
              "    </tr>\n",
              "    <tr>\n",
              "      <th>1236</th>\n",
              "      <td>zesterer/ffd</td>\n",
              "      <td>NaN</td>\n",
              "      <td>0</td>\n",
              "      <td>15</td>\n",
              "    </tr>\n",
              "    <tr>\n",
              "      <th>1237</th>\n",
              "      <td>zesterer/ffd</td>\n",
              "      <td>NaN</td>\n",
              "      <td>0</td>\n",
              "      <td>16</td>\n",
              "    </tr>\n",
              "    <tr>\n",
              "      <th>1238</th>\n",
              "      <td>zesterer/ffd</td>\n",
              "      <td>NaN</td>\n",
              "      <td>0</td>\n",
              "      <td>17</td>\n",
              "    </tr>\n",
              "    <tr>\n",
              "      <th>1239</th>\n",
              "      <td>zesterer/ffd</td>\n",
              "      <td>NaN</td>\n",
              "      <td>0</td>\n",
              "      <td>18</td>\n",
              "    </tr>\n",
              "    <tr>\n",
              "      <th>1240</th>\n",
              "      <td>zesterer/ffd</td>\n",
              "      <td>NaN</td>\n",
              "      <td>0</td>\n",
              "      <td>19</td>\n",
              "    </tr>\n",
              "    <tr>\n",
              "      <th>1241</th>\n",
              "      <td>zesterer/ffd</td>\n",
              "      <td>NaN</td>\n",
              "      <td>0</td>\n",
              "      <td>20</td>\n",
              "    </tr>\n",
              "    <tr>\n",
              "      <th>1242</th>\n",
              "      <td>zesterer/ffd</td>\n",
              "      <td>NaN</td>\n",
              "      <td>0</td>\n",
              "      <td>21</td>\n",
              "    </tr>\n",
              "    <tr>\n",
              "      <th>1243</th>\n",
              "      <td>zesterer/ffd</td>\n",
              "      <td>NaN</td>\n",
              "      <td>0</td>\n",
              "      <td>22</td>\n",
              "    </tr>\n",
              "    <tr>\n",
              "      <th>1244</th>\n",
              "      <td>zesterer/ffd</td>\n",
              "      <td>NaN</td>\n",
              "      <td>0</td>\n",
              "      <td>23</td>\n",
              "    </tr>\n",
              "    <tr>\n",
              "      <th>1245</th>\n",
              "      <td>zesterer/ffd</td>\n",
              "      <td>NaN</td>\n",
              "      <td>0</td>\n",
              "      <td>24</td>\n",
              "    </tr>\n",
              "    <tr>\n",
              "      <th>1246</th>\n",
              "      <td>zesterer/ffd</td>\n",
              "      <td>NaN</td>\n",
              "      <td>0</td>\n",
              "      <td>25</td>\n",
              "    </tr>\n",
              "    <tr>\n",
              "      <th>1247</th>\n",
              "      <td>zesterer/ffd</td>\n",
              "      <td>NaN</td>\n",
              "      <td>0</td>\n",
              "      <td>26</td>\n",
              "    </tr>\n",
              "    <tr>\n",
              "      <th>1248</th>\n",
              "      <td>zesterer/ffd</td>\n",
              "      <td>NaN</td>\n",
              "      <td>0</td>\n",
              "      <td>27</td>\n",
              "    </tr>\n",
              "    <tr>\n",
              "      <th>1249</th>\n",
              "      <td>zesterer/ffd</td>\n",
              "      <td>NaN</td>\n",
              "      <td>0</td>\n",
              "      <td>28</td>\n",
              "    </tr>\n",
              "    <tr>\n",
              "      <th>1250</th>\n",
              "      <td>zesterer/ffd</td>\n",
              "      <td>NaN</td>\n",
              "      <td>0</td>\n",
              "      <td>29</td>\n",
              "    </tr>\n",
              "    <tr>\n",
              "      <th>1251</th>\n",
              "      <td>zesterer/ffd</td>\n",
              "      <td>NaN</td>\n",
              "      <td>0</td>\n",
              "      <td>30</td>\n",
              "    </tr>\n",
              "  </tbody>\n",
              "</table>\n",
              "</div>\n",
              "    <div class=\"colab-df-buttons\">\n",
              "\n",
              "  <div class=\"colab-df-container\">\n",
              "    <button class=\"colab-df-convert\" onclick=\"convertToInteractive('df-5ecb0575-6432-4b0b-b889-a723dcb9b175')\"\n",
              "            title=\"Convert this dataframe to an interactive table.\"\n",
              "            style=\"display:none;\">\n",
              "\n",
              "  <svg xmlns=\"http://www.w3.org/2000/svg\" height=\"24px\" viewBox=\"0 -960 960 960\">\n",
              "    <path d=\"M120-120v-720h720v720H120Zm60-500h600v-160H180v160Zm220 220h160v-160H400v160Zm0 220h160v-160H400v160ZM180-400h160v-160H180v160Zm440 0h160v-160H620v160ZM180-180h160v-160H180v160Zm440 0h160v-160H620v160Z\"/>\n",
              "  </svg>\n",
              "    </button>\n",
              "\n",
              "  <style>\n",
              "    .colab-df-container {\n",
              "      display:flex;\n",
              "      gap: 12px;\n",
              "    }\n",
              "\n",
              "    .colab-df-convert {\n",
              "      background-color: #E8F0FE;\n",
              "      border: none;\n",
              "      border-radius: 50%;\n",
              "      cursor: pointer;\n",
              "      display: none;\n",
              "      fill: #1967D2;\n",
              "      height: 32px;\n",
              "      padding: 0 0 0 0;\n",
              "      width: 32px;\n",
              "    }\n",
              "\n",
              "    .colab-df-convert:hover {\n",
              "      background-color: #E2EBFA;\n",
              "      box-shadow: 0px 1px 2px rgba(60, 64, 67, 0.3), 0px 1px 3px 1px rgba(60, 64, 67, 0.15);\n",
              "      fill: #174EA6;\n",
              "    }\n",
              "\n",
              "    .colab-df-buttons div {\n",
              "      margin-bottom: 4px;\n",
              "    }\n",
              "\n",
              "    [theme=dark] .colab-df-convert {\n",
              "      background-color: #3B4455;\n",
              "      fill: #D2E3FC;\n",
              "    }\n",
              "\n",
              "    [theme=dark] .colab-df-convert:hover {\n",
              "      background-color: #434B5C;\n",
              "      box-shadow: 0px 1px 3px 1px rgba(0, 0, 0, 0.15);\n",
              "      filter: drop-shadow(0px 1px 2px rgba(0, 0, 0, 0.3));\n",
              "      fill: #FFFFFF;\n",
              "    }\n",
              "  </style>\n",
              "\n",
              "    <script>\n",
              "      const buttonEl =\n",
              "        document.querySelector('#df-5ecb0575-6432-4b0b-b889-a723dcb9b175 button.colab-df-convert');\n",
              "      buttonEl.style.display =\n",
              "        google.colab.kernel.accessAllowed ? 'block' : 'none';\n",
              "\n",
              "      async function convertToInteractive(key) {\n",
              "        const element = document.querySelector('#df-5ecb0575-6432-4b0b-b889-a723dcb9b175');\n",
              "        const dataTable =\n",
              "          await google.colab.kernel.invokeFunction('convertToInteractive',\n",
              "                                                    [key], {});\n",
              "        if (!dataTable) return;\n",
              "\n",
              "        const docLinkHtml = 'Like what you see? Visit the ' +\n",
              "          '<a target=\"_blank\" href=https://colab.research.google.com/notebooks/data_table.ipynb>data table notebook</a>'\n",
              "          + ' to learn more about interactive tables.';\n",
              "        element.innerHTML = '';\n",
              "        dataTable['output_type'] = 'display_data';\n",
              "        await google.colab.output.renderOutput(dataTable, element);\n",
              "        const docLink = document.createElement('div');\n",
              "        docLink.innerHTML = docLinkHtml;\n",
              "        element.appendChild(docLink);\n",
              "      }\n",
              "    </script>\n",
              "  </div>\n",
              "\n",
              "\n",
              "<div id=\"df-7f88074e-b04c-48bc-b78f-70fa2d763d01\">\n",
              "  <button class=\"colab-df-quickchart\" onclick=\"quickchart('df-7f88074e-b04c-48bc-b78f-70fa2d763d01')\"\n",
              "            title=\"Suggest charts\"\n",
              "            style=\"display:none;\">\n",
              "\n",
              "<svg xmlns=\"http://www.w3.org/2000/svg\" height=\"24px\"viewBox=\"0 0 24 24\"\n",
              "     width=\"24px\">\n",
              "    <g>\n",
              "        <path d=\"M19 3H5c-1.1 0-2 .9-2 2v14c0 1.1.9 2 2 2h14c1.1 0 2-.9 2-2V5c0-1.1-.9-2-2-2zM9 17H7v-7h2v7zm4 0h-2V7h2v10zm4 0h-2v-4h2v4z\"/>\n",
              "    </g>\n",
              "</svg>\n",
              "  </button>\n",
              "\n",
              "<style>\n",
              "  .colab-df-quickchart {\n",
              "      --bg-color: #E8F0FE;\n",
              "      --fill-color: #1967D2;\n",
              "      --hover-bg-color: #E2EBFA;\n",
              "      --hover-fill-color: #174EA6;\n",
              "      --disabled-fill-color: #AAA;\n",
              "      --disabled-bg-color: #DDD;\n",
              "  }\n",
              "\n",
              "  [theme=dark] .colab-df-quickchart {\n",
              "      --bg-color: #3B4455;\n",
              "      --fill-color: #D2E3FC;\n",
              "      --hover-bg-color: #434B5C;\n",
              "      --hover-fill-color: #FFFFFF;\n",
              "      --disabled-bg-color: #3B4455;\n",
              "      --disabled-fill-color: #666;\n",
              "  }\n",
              "\n",
              "  .colab-df-quickchart {\n",
              "    background-color: var(--bg-color);\n",
              "    border: none;\n",
              "    border-radius: 50%;\n",
              "    cursor: pointer;\n",
              "    display: none;\n",
              "    fill: var(--fill-color);\n",
              "    height: 32px;\n",
              "    padding: 0;\n",
              "    width: 32px;\n",
              "  }\n",
              "\n",
              "  .colab-df-quickchart:hover {\n",
              "    background-color: var(--hover-bg-color);\n",
              "    box-shadow: 0 1px 2px rgba(60, 64, 67, 0.3), 0 1px 3px 1px rgba(60, 64, 67, 0.15);\n",
              "    fill: var(--button-hover-fill-color);\n",
              "  }\n",
              "\n",
              "  .colab-df-quickchart-complete:disabled,\n",
              "  .colab-df-quickchart-complete:disabled:hover {\n",
              "    background-color: var(--disabled-bg-color);\n",
              "    fill: var(--disabled-fill-color);\n",
              "    box-shadow: none;\n",
              "  }\n",
              "\n",
              "  .colab-df-spinner {\n",
              "    border: 2px solid var(--fill-color);\n",
              "    border-color: transparent;\n",
              "    border-bottom-color: var(--fill-color);\n",
              "    animation:\n",
              "      spin 1s steps(1) infinite;\n",
              "  }\n",
              "\n",
              "  @keyframes spin {\n",
              "    0% {\n",
              "      border-color: transparent;\n",
              "      border-bottom-color: var(--fill-color);\n",
              "      border-left-color: var(--fill-color);\n",
              "    }\n",
              "    20% {\n",
              "      border-color: transparent;\n",
              "      border-left-color: var(--fill-color);\n",
              "      border-top-color: var(--fill-color);\n",
              "    }\n",
              "    30% {\n",
              "      border-color: transparent;\n",
              "      border-left-color: var(--fill-color);\n",
              "      border-top-color: var(--fill-color);\n",
              "      border-right-color: var(--fill-color);\n",
              "    }\n",
              "    40% {\n",
              "      border-color: transparent;\n",
              "      border-right-color: var(--fill-color);\n",
              "      border-top-color: var(--fill-color);\n",
              "    }\n",
              "    60% {\n",
              "      border-color: transparent;\n",
              "      border-right-color: var(--fill-color);\n",
              "    }\n",
              "    80% {\n",
              "      border-color: transparent;\n",
              "      border-right-color: var(--fill-color);\n",
              "      border-bottom-color: var(--fill-color);\n",
              "    }\n",
              "    90% {\n",
              "      border-color: transparent;\n",
              "      border-bottom-color: var(--fill-color);\n",
              "    }\n",
              "  }\n",
              "</style>\n",
              "\n",
              "  <script>\n",
              "    async function quickchart(key) {\n",
              "      const quickchartButtonEl =\n",
              "        document.querySelector('#' + key + ' button');\n",
              "      quickchartButtonEl.disabled = true;  // To prevent multiple clicks.\n",
              "      quickchartButtonEl.classList.add('colab-df-spinner');\n",
              "      try {\n",
              "        const charts = await google.colab.kernel.invokeFunction(\n",
              "            'suggestCharts', [key], {});\n",
              "      } catch (error) {\n",
              "        console.error('Error during call to suggestCharts:', error);\n",
              "      }\n",
              "      quickchartButtonEl.classList.remove('colab-df-spinner');\n",
              "      quickchartButtonEl.classList.add('colab-df-quickchart-complete');\n",
              "    }\n",
              "    (() => {\n",
              "      let quickchartButtonEl =\n",
              "        document.querySelector('#df-7f88074e-b04c-48bc-b78f-70fa2d763d01 button');\n",
              "      quickchartButtonEl.style.display =\n",
              "        google.colab.kernel.accessAllowed ? 'block' : 'none';\n",
              "    })();\n",
              "  </script>\n",
              "</div>\n",
              "    </div>\n",
              "  </div>\n"
            ],
            "application/vnd.google.colaboratory.intrinsic+json": {
              "type": "dataframe",
              "repr_error": "0"
            }
          },
          "metadata": {},
          "execution_count": 28
        }
      ]
    },
    {
      "cell_type": "code",
      "source": [
        "unique_full_names_num = complete_df['full_name'].nunique()\n",
        "print(unique_full_names_num)"
      ],
      "metadata": {
        "colab": {
          "base_uri": "https://localhost:8080/"
        },
        "id": "0Y2anH_n8Hko",
        "outputId": "ba551220-b255-4df1-88e8-896b78995c85"
      },
      "execution_count": null,
      "outputs": [
        {
          "output_type": "stream",
          "name": "stdout",
          "text": [
            "41\n"
          ]
        }
      ]
    },
    {
      "cell_type": "code",
      "source": [
        "unique_full_names = complete_df['full_name'].unique()\n",
        "for repo in unique_full_names:\n",
        "    print(repo)"
      ],
      "metadata": {
        "colab": {
          "base_uri": "https://localhost:8080/"
        },
        "id": "NZMePJMb9GFg",
        "outputId": "d6f099ca-1fb6-4d3e-ab21-4bb432405e3d"
      },
      "execution_count": null,
      "outputs": [
        {
          "output_type": "stream",
          "name": "stdout",
          "text": [
            "AmrDeveloper/ClangQL\n",
            "AugmendTech/Snippy\n",
            "BenjaSOL/ore-cli-gpu\n",
            "Decurity/tx-coverage\n",
            "IncredibleDevHQ/Incredible.dev\n",
            "Kharos102/interceptor\n",
            "Oldwarma/memento-master\n",
            "Parms-Crypto/CUDA-ORE-DUMP\n",
            "TanTanDev/binary_greedy_mesher_demo\n",
            "a16z/zkvm-benchmarks\n",
            "achristmascarl/three_body\n",
            "adam-mcdaniel/music-generation\n",
            "arun11299/How-not-to-async-rs\n",
            "biomejs/biome-zed\n",
            "bluskript/nix-inspect\n",
            "buffalojoec/modular-svm\n",
            "cygaar/inkmate\n",
            "etherhood/Liquidator-Morpho\n",
            "frostb1ten/CVE-2024-24576-PoC\n",
            "gold-silver-copper/ratatui_egui_wasm\n",
            "henke443/fast-graph\n",
            "integration-os/integrationos\n",
            "kamyar1979/rust-dyn-proxy\n",
            "lapce/tiron\n",
            "mathetake/tvisor\n",
            "mattatz/curvo\n",
            "mcmah309/error_set\n",
            "ninja-quant/ninjabook\n",
            "nwaliaez/ascii_art\n",
            "obhq/jailbreak-11\n",
            "risechain/block-stm-revm\n",
            "rosedblabs/rust-practice\n",
            "sarah-ek/diol\n",
            "say4n/jf\n",
            "shenjinti/fgpt\n",
            "sleeprite/rudis\n",
            "sommerfelddev/sentrum\n",
            "tonyke-bot/ore-miner\n",
            "tsoding/good_training_language\n",
            "zemse/forge-flamegraph\n",
            "zesterer/ffd\n"
          ]
        }
      ]
    },
    {
      "cell_type": "code",
      "source": [
        "repo_stargazers = complete_df.groupby('full_name')['stargazers_count'].sum()\n",
        "\n",
        "print(repo_stargazers)"
      ],
      "metadata": {
        "colab": {
          "base_uri": "https://localhost:8080/"
        },
        "id": "gtSK6aO69JsE",
        "outputId": "0498fbaa-0d46-499c-f50e-83445d990977"
      },
      "execution_count": null,
      "outputs": [
        {
          "output_type": "stream",
          "name": "stdout",
          "text": [
            "full_name\n",
            "AmrDeveloper/ClangQL                    421\n",
            "AugmendTech/Snippy                       37\n",
            "BenjaSOL/ore-cli-gpu                    232\n",
            "Decurity/tx-coverage                     38\n",
            "IncredibleDevHQ/Incredible.dev           29\n",
            "Kharos102/interceptor                    30\n",
            "Oldwarma/memento-master                  47\n",
            "Parms-Crypto/CUDA-ORE-DUMP               41\n",
            "TanTanDev/binary_greedy_mesher_demo     152\n",
            "a16z/zkvm-benchmarks                     42\n",
            "achristmascarl/three_body               133\n",
            "adam-mcdaniel/music-generation           35\n",
            "arun11299/How-not-to-async-rs            28\n",
            "biomejs/biome-zed                        40\n",
            "bluskript/nix-inspect                   227\n",
            "buffalojoec/modular-svm                  31\n",
            "cygaar/inkmate                           30\n",
            "etherhood/Liquidator-Morpho              28\n",
            "frostb1ten/CVE-2024-24576-PoC            49\n",
            "gold-silver-copper/ratatui_egui_wasm     44\n",
            "henke443/fast-graph                      31\n",
            "integration-os/integrationos             50\n",
            "kamyar1979/rust-dyn-proxy                28\n",
            "lapce/tiron                              44\n",
            "mathetake/tvisor                         33\n",
            "mattatz/curvo                            36\n",
            "mcmah309/error_set                       30\n",
            "ninja-quant/ninjabook                   116\n",
            "nwaliaez/ascii_art                       52\n",
            "obhq/jailbreak-11                       182\n",
            "risechain/block-stm-revm                 27\n",
            "rosedblabs/rust-practice                221\n",
            "sarah-ek/diol                            41\n",
            "say4n/jf                                123\n",
            "shenjinti/fgpt                           92\n",
            "sleeprite/rudis                           3\n",
            "sommerfelddev/sentrum                    40\n",
            "tonyke-bot/ore-miner                    472\n",
            "tsoding/good_training_language          270\n",
            "zemse/forge-flamegraph                   24\n",
            "zesterer/ffd                             30\n",
            "Name: stargazers_count, dtype: int64\n"
          ]
        }
      ]
    },
    {
      "cell_type": "code",
      "source": [
        "top_five_repos = repo_stargazers.sort_values(ascending=False).head(5)\n",
        "top_five_df = complete_df[complete_df['full_name'].isin(top_five_repos.index)]\n",
        "\n",
        "print(top_five_df)"
      ],
      "metadata": {
        "colab": {
          "base_uri": "https://localhost:8080/"
        },
        "id": "ahGHnlMI9bRd",
        "outputId": "df55cb7c-9dbc-4b19-ea04-7d02fd6e8743"
      },
      "execution_count": null,
      "outputs": [
        {
          "output_type": "stream",
          "name": "stdout",
          "text": [
            "                           full_name        date  stargazers_count  \\\n",
            "0               AmrDeveloper/ClangQL  2024-04-05                 2   \n",
            "1               AmrDeveloper/ClangQL  2024-04-06                22   \n",
            "2               AmrDeveloper/ClangQL  2024-04-07                79   \n",
            "3               AmrDeveloper/ClangQL  2024-04-08               113   \n",
            "4               AmrDeveloper/ClangQL  2024-04-09                75   \n",
            "...                              ...         ...               ...   \n",
            "1186  tsoding/good_training_language  2024-04-28                 2   \n",
            "1187  tsoding/good_training_language  2024-04-29                 1   \n",
            "1188  tsoding/good_training_language  2024-04-30                 3   \n",
            "1189  tsoding/good_training_language  2024-05-01                 1   \n",
            "1190  tsoding/good_training_language  2024-05-02                 5   \n",
            "\n",
            "      days_since_creation  \n",
            "0                       0  \n",
            "1                       1  \n",
            "2                       2  \n",
            "3                       3  \n",
            "4                       4  \n",
            "...                   ...  \n",
            "1186                   26  \n",
            "1187                   27  \n",
            "1188                   28  \n",
            "1189                   29  \n",
            "1190                   30  \n",
            "\n",
            "[155 rows x 4 columns]\n"
          ]
        }
      ]
    },
    {
      "cell_type": "code",
      "source": [
        "print(top_five_df.isnull().any().any())\n",
        "print(top_five_df.isnull().any())\n",
        "print(top_five_df.isnull().sum())"
      ],
      "metadata": {
        "colab": {
          "base_uri": "https://localhost:8080/"
        },
        "id": "b6SKNp83-Dqg",
        "outputId": "7bdb6685-2ad9-43fc-9eef-884369946b42"
      },
      "execution_count": null,
      "outputs": [
        {
          "output_type": "stream",
          "name": "stdout",
          "text": [
            "True\n",
            "full_name              False\n",
            "date                    True\n",
            "stargazers_count       False\n",
            "days_since_creation    False\n",
            "dtype: bool\n",
            "full_name               0\n",
            "date                   44\n",
            "stargazers_count        0\n",
            "days_since_creation     0\n",
            "dtype: int64\n"
          ]
        }
      ]
    },
    {
      "cell_type": "code",
      "source": [
        "print(top_five_df[top_five_df.isnull().any(axis=1)])"
      ],
      "metadata": {
        "colab": {
          "base_uri": "https://localhost:8080/"
        },
        "id": "OJ5IFJPD-b3x",
        "outputId": "d301b69d-f020-46a5-c60d-123df518f442"
      },
      "execution_count": null,
      "outputs": [
        {
          "output_type": "stream",
          "name": "stdout",
          "text": [
            "                  full_name date  stargazers_count  days_since_creation\n",
            "8      AmrDeveloper/ClangQL  NaN                 0                    8\n",
            "14     AmrDeveloper/ClangQL  NaN                 0                   14\n",
            "15     AmrDeveloper/ClangQL  NaN                 0                   15\n",
            "17     AmrDeveloper/ClangQL  NaN                 0                   17\n",
            "20     AmrDeveloper/ClangQL  NaN                 0                   20\n",
            "25     AmrDeveloper/ClangQL  NaN                 0                   25\n",
            "27     AmrDeveloper/ClangQL  NaN                 0                   27\n",
            "28     AmrDeveloper/ClangQL  NaN                 0                   28\n",
            "30     AmrDeveloper/ClangQL  NaN                 0                   30\n",
            "74     BenjaSOL/ore-cli-gpu  NaN                 0                   13\n",
            "76     BenjaSOL/ore-cli-gpu  NaN                 0                   15\n",
            "77     BenjaSOL/ore-cli-gpu  NaN                 0                   16\n",
            "79     BenjaSOL/ore-cli-gpu  NaN                 0                   18\n",
            "80     BenjaSOL/ore-cli-gpu  NaN                 0                   19\n",
            "82     BenjaSOL/ore-cli-gpu  NaN                 0                   21\n",
            "86     BenjaSOL/ore-cli-gpu  NaN                 0                   25\n",
            "88     BenjaSOL/ore-cli-gpu  NaN                 0                   27\n",
            "91     BenjaSOL/ore-cli-gpu  NaN                 0                   30\n",
            "430   bluskript/nix-inspect  NaN                 0                    2\n",
            "431   bluskript/nix-inspect  NaN                 0                    3\n",
            "432   bluskript/nix-inspect  NaN                 0                    4\n",
            "433   bluskript/nix-inspect  NaN                 0                    5\n",
            "434   bluskript/nix-inspect  NaN                 0                    6\n",
            "435   bluskript/nix-inspect  NaN                 0                    7\n",
            "452   bluskript/nix-inspect  NaN                 0                   24\n",
            "455   bluskript/nix-inspect  NaN                 0                   27\n",
            "457   bluskript/nix-inspect  NaN                 0                   29\n",
            "1138   tonyke-bot/ore-miner  NaN                 0                    9\n",
            "1140   tonyke-bot/ore-miner  NaN                 0                   11\n",
            "1141   tonyke-bot/ore-miner  NaN                 0                   12\n",
            "1142   tonyke-bot/ore-miner  NaN                 0                   13\n",
            "1143   tonyke-bot/ore-miner  NaN                 0                   14\n",
            "1145   tonyke-bot/ore-miner  NaN                 0                   16\n",
            "1146   tonyke-bot/ore-miner  NaN                 0                   17\n",
            "1147   tonyke-bot/ore-miner  NaN                 0                   18\n",
            "1148   tonyke-bot/ore-miner  NaN                 0                   19\n",
            "1149   tonyke-bot/ore-miner  NaN                 0                   20\n",
            "1150   tonyke-bot/ore-miner  NaN                 0                   21\n",
            "1152   tonyke-bot/ore-miner  NaN                 0                   23\n",
            "1154   tonyke-bot/ore-miner  NaN                 0                   25\n",
            "1155   tonyke-bot/ore-miner  NaN                 0                   26\n",
            "1157   tonyke-bot/ore-miner  NaN                 0                   28\n",
            "1158   tonyke-bot/ore-miner  NaN                 0                   29\n",
            "1159   tonyke-bot/ore-miner  NaN                 0                   30\n"
          ]
        }
      ]
    },
    {
      "cell_type": "code",
      "source": [
        "top_five_df.info()"
      ],
      "metadata": {
        "colab": {
          "base_uri": "https://localhost:8080/"
        },
        "id": "eEb2ByeG_CQx",
        "outputId": "bd99b7b4-95c7-4245-e5f2-67255ea84dab"
      },
      "execution_count": null,
      "outputs": [
        {
          "output_type": "stream",
          "name": "stdout",
          "text": [
            "<class 'pandas.core.frame.DataFrame'>\n",
            "Index: 155 entries, 0 to 1190\n",
            "Data columns (total 4 columns):\n",
            " #   Column               Non-Null Count  Dtype \n",
            "---  ------               --------------  ----- \n",
            " 0   full_name            155 non-null    object\n",
            " 1   date                 111 non-null    object\n",
            " 2   stargazers_count     155 non-null    int64 \n",
            " 3   days_since_creation  155 non-null    int64 \n",
            "dtypes: int64(2), object(2)\n",
            "memory usage: 6.1+ KB\n"
          ]
        }
      ]
    },
    {
      "cell_type": "code",
      "source": [
        "unique_full_names_num = top_five_df['full_name'].nunique()\n",
        "print(unique_full_names_num)"
      ],
      "metadata": {
        "colab": {
          "base_uri": "https://localhost:8080/"
        },
        "id": "LAXsUq-1_U7-",
        "outputId": "d722e472-68cb-488f-80f8-f1fb3b750c3f"
      },
      "execution_count": null,
      "outputs": [
        {
          "output_type": "stream",
          "name": "stdout",
          "text": [
            "5\n"
          ]
        }
      ]
    },
    {
      "cell_type": "code",
      "source": [
        "repo_stargazers = top_five_df.groupby('full_name')['stargazers_count'].sum()\n",
        "\n",
        "print(repo_stargazers)"
      ],
      "metadata": {
        "colab": {
          "base_uri": "https://localhost:8080/"
        },
        "id": "Xs7Z467atoCe",
        "outputId": "0fbffd19-fdf3-45d9-8531-0208d6dc1bd3"
      },
      "execution_count": null,
      "outputs": [
        {
          "output_type": "stream",
          "name": "stdout",
          "text": [
            "full_name\n",
            "AmrDeveloper/ClangQL              421\n",
            "BenjaSOL/ore-cli-gpu              232\n",
            "bluskript/nix-inspect             227\n",
            "tonyke-bot/ore-miner              472\n",
            "tsoding/good_training_language    270\n",
            "Name: stargazers_count, dtype: int64\n"
          ]
        }
      ]
    },
    {
      "cell_type": "code",
      "source": [
        "folder_path = '/content/drive/MyDrive/PMF 2 4/STROJNO + MREŽE/NEW/'\n",
        "\n",
        "top_five_df.to_csv(folder_path + 'top_five_repos_and_its_stargazers_by_day.csv', index=False)\n",
        "top_five_df.to_json(folder_path + 'top_five_repos_and_its_stargazers_by_day.json', orient='records', lines=True)\n",
        "\n",
        "print(\"Files saved to Google Drive.\")"
      ],
      "metadata": {
        "colab": {
          "base_uri": "https://localhost:8080/"
        },
        "id": "BUF20ksp6i5P",
        "outputId": "72f1b9f6-0c0e-445f-befe-888b7ebcc789"
      },
      "execution_count": null,
      "outputs": [
        {
          "output_type": "stream",
          "name": "stdout",
          "text": [
            "Files saved to Google Drive.\n"
          ]
        }
      ]
    },
    {
      "cell_type": "code",
      "source": [],
      "metadata": {
        "id": "hcUR0WKY64vg"
      },
      "execution_count": null,
      "outputs": []
    }
  ]
}