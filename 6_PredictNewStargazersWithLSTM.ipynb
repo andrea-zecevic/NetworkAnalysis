{
  "nbformat": 4,
  "nbformat_minor": 0,
  "metadata": {
    "colab": {
      "provenance": [],
      "toc_visible": true,
      "mount_file_id": "1w3VJSWJChnTOuenoTNGdHerh_rVFkrwJ",
      "authorship_tag": "ABX9TyPsNrpxT4Bc6ctO24S4pRAR"
    },
    "kernelspec": {
      "name": "python3",
      "display_name": "Python 3"
    },
    "language_info": {
      "name": "python"
    }
  },
  "cells": [
    {
      "cell_type": "code",
      "execution_count": null,
      "metadata": {
        "id": "5Bw0SlbLEM8L"
      },
      "outputs": [],
      "source": [
        "import numpy as np\n",
        "import pandas as pd\n",
        "from sklearn.preprocessing import MinMaxScaler\n",
        "from keras.models import Sequential\n",
        "from keras.layers import LSTM, Dense\n",
        "from keras.optimizers import Adam"
      ]
    },
    {
      "cell_type": "markdown",
      "source": [
        "This notebook aims to predict the number of new stargazers on the 31st day after the creation of a repository. It focuses on the top 5 repositories with the highest number of stargazers, tracking the growth of stargazers in the first 30 days since repository creation. The dataset includes the number of new stargazers for each day and the average betweenness centrality (BC) measure of all stargazers contributing to the repository on that day. Based on this information, the goal is to forecast the number of new stargazers on the 31st day after repository creation."
      ],
      "metadata": {
        "id": "8DNObPtBqfUT"
      }
    },
    {
      "cell_type": "code",
      "source": [
        "final_df = pd.read_csv('/content/drive/MyDrive/PMF 2 4/STROJNO + MREŽE/Projekt_v2/final_for_LSTM.csv')"
      ],
      "metadata": {
        "id": "gtMHF7VJEOeZ"
      },
      "execution_count": null,
      "outputs": []
    },
    {
      "cell_type": "code",
      "source": [
        "final_df.head(5)"
      ],
      "metadata": {
        "colab": {
          "base_uri": "https://localhost:8080/",
          "height": 206
        },
        "id": "5X91n1F3EnuS",
        "outputId": "77cbccb6-a261-438e-e675-ef4bd5fdf052"
      },
      "execution_count": null,
      "outputs": [
        {
          "output_type": "execute_result",
          "data": {
            "text/plain": [
              "              full_name        date  stargazers_count  days_since_creation  \\\n",
              "0  AmrDeveloper/ClangQL  2024-04-05                 2                    0   \n",
              "1  AmrDeveloper/ClangQL  2024-04-06                22                    1   \n",
              "2  AmrDeveloper/ClangQL  2024-04-07                79                    2   \n",
              "3  AmrDeveloper/ClangQL  2024-04-08               113                    3   \n",
              "4  AmrDeveloper/ClangQL  2024-04-09                75                    4   \n",
              "\n",
              "   average_bc  \n",
              "0    0.000000  \n",
              "1    0.001326  \n",
              "2    0.001998  \n",
              "3    0.000545  \n",
              "4    0.002579  "
            ],
            "text/html": [
              "\n",
              "  <div id=\"df-1c754bf8-9a41-4e5e-970e-f0e9718b98ef\" class=\"colab-df-container\">\n",
              "    <div>\n",
              "<style scoped>\n",
              "    .dataframe tbody tr th:only-of-type {\n",
              "        vertical-align: middle;\n",
              "    }\n",
              "\n",
              "    .dataframe tbody tr th {\n",
              "        vertical-align: top;\n",
              "    }\n",
              "\n",
              "    .dataframe thead th {\n",
              "        text-align: right;\n",
              "    }\n",
              "</style>\n",
              "<table border=\"1\" class=\"dataframe\">\n",
              "  <thead>\n",
              "    <tr style=\"text-align: right;\">\n",
              "      <th></th>\n",
              "      <th>full_name</th>\n",
              "      <th>date</th>\n",
              "      <th>stargazers_count</th>\n",
              "      <th>days_since_creation</th>\n",
              "      <th>average_bc</th>\n",
              "    </tr>\n",
              "  </thead>\n",
              "  <tbody>\n",
              "    <tr>\n",
              "      <th>0</th>\n",
              "      <td>AmrDeveloper/ClangQL</td>\n",
              "      <td>2024-04-05</td>\n",
              "      <td>2</td>\n",
              "      <td>0</td>\n",
              "      <td>0.000000</td>\n",
              "    </tr>\n",
              "    <tr>\n",
              "      <th>1</th>\n",
              "      <td>AmrDeveloper/ClangQL</td>\n",
              "      <td>2024-04-06</td>\n",
              "      <td>22</td>\n",
              "      <td>1</td>\n",
              "      <td>0.001326</td>\n",
              "    </tr>\n",
              "    <tr>\n",
              "      <th>2</th>\n",
              "      <td>AmrDeveloper/ClangQL</td>\n",
              "      <td>2024-04-07</td>\n",
              "      <td>79</td>\n",
              "      <td>2</td>\n",
              "      <td>0.001998</td>\n",
              "    </tr>\n",
              "    <tr>\n",
              "      <th>3</th>\n",
              "      <td>AmrDeveloper/ClangQL</td>\n",
              "      <td>2024-04-08</td>\n",
              "      <td>113</td>\n",
              "      <td>3</td>\n",
              "      <td>0.000545</td>\n",
              "    </tr>\n",
              "    <tr>\n",
              "      <th>4</th>\n",
              "      <td>AmrDeveloper/ClangQL</td>\n",
              "      <td>2024-04-09</td>\n",
              "      <td>75</td>\n",
              "      <td>4</td>\n",
              "      <td>0.002579</td>\n",
              "    </tr>\n",
              "  </tbody>\n",
              "</table>\n",
              "</div>\n",
              "    <div class=\"colab-df-buttons\">\n",
              "\n",
              "  <div class=\"colab-df-container\">\n",
              "    <button class=\"colab-df-convert\" onclick=\"convertToInteractive('df-1c754bf8-9a41-4e5e-970e-f0e9718b98ef')\"\n",
              "            title=\"Convert this dataframe to an interactive table.\"\n",
              "            style=\"display:none;\">\n",
              "\n",
              "  <svg xmlns=\"http://www.w3.org/2000/svg\" height=\"24px\" viewBox=\"0 -960 960 960\">\n",
              "    <path d=\"M120-120v-720h720v720H120Zm60-500h600v-160H180v160Zm220 220h160v-160H400v160Zm0 220h160v-160H400v160ZM180-400h160v-160H180v160Zm440 0h160v-160H620v160ZM180-180h160v-160H180v160Zm440 0h160v-160H620v160Z\"/>\n",
              "  </svg>\n",
              "    </button>\n",
              "\n",
              "  <style>\n",
              "    .colab-df-container {\n",
              "      display:flex;\n",
              "      gap: 12px;\n",
              "    }\n",
              "\n",
              "    .colab-df-convert {\n",
              "      background-color: #E8F0FE;\n",
              "      border: none;\n",
              "      border-radius: 50%;\n",
              "      cursor: pointer;\n",
              "      display: none;\n",
              "      fill: #1967D2;\n",
              "      height: 32px;\n",
              "      padding: 0 0 0 0;\n",
              "      width: 32px;\n",
              "    }\n",
              "\n",
              "    .colab-df-convert:hover {\n",
              "      background-color: #E2EBFA;\n",
              "      box-shadow: 0px 1px 2px rgba(60, 64, 67, 0.3), 0px 1px 3px 1px rgba(60, 64, 67, 0.15);\n",
              "      fill: #174EA6;\n",
              "    }\n",
              "\n",
              "    .colab-df-buttons div {\n",
              "      margin-bottom: 4px;\n",
              "    }\n",
              "\n",
              "    [theme=dark] .colab-df-convert {\n",
              "      background-color: #3B4455;\n",
              "      fill: #D2E3FC;\n",
              "    }\n",
              "\n",
              "    [theme=dark] .colab-df-convert:hover {\n",
              "      background-color: #434B5C;\n",
              "      box-shadow: 0px 1px 3px 1px rgba(0, 0, 0, 0.15);\n",
              "      filter: drop-shadow(0px 1px 2px rgba(0, 0, 0, 0.3));\n",
              "      fill: #FFFFFF;\n",
              "    }\n",
              "  </style>\n",
              "\n",
              "    <script>\n",
              "      const buttonEl =\n",
              "        document.querySelector('#df-1c754bf8-9a41-4e5e-970e-f0e9718b98ef button.colab-df-convert');\n",
              "      buttonEl.style.display =\n",
              "        google.colab.kernel.accessAllowed ? 'block' : 'none';\n",
              "\n",
              "      async function convertToInteractive(key) {\n",
              "        const element = document.querySelector('#df-1c754bf8-9a41-4e5e-970e-f0e9718b98ef');\n",
              "        const dataTable =\n",
              "          await google.colab.kernel.invokeFunction('convertToInteractive',\n",
              "                                                    [key], {});\n",
              "        if (!dataTable) return;\n",
              "\n",
              "        const docLinkHtml = 'Like what you see? Visit the ' +\n",
              "          '<a target=\"_blank\" href=https://colab.research.google.com/notebooks/data_table.ipynb>data table notebook</a>'\n",
              "          + ' to learn more about interactive tables.';\n",
              "        element.innerHTML = '';\n",
              "        dataTable['output_type'] = 'display_data';\n",
              "        await google.colab.output.renderOutput(dataTable, element);\n",
              "        const docLink = document.createElement('div');\n",
              "        docLink.innerHTML = docLinkHtml;\n",
              "        element.appendChild(docLink);\n",
              "      }\n",
              "    </script>\n",
              "  </div>\n",
              "\n",
              "\n",
              "<div id=\"df-977270c2-7325-4533-9d4e-e14220997eae\">\n",
              "  <button class=\"colab-df-quickchart\" onclick=\"quickchart('df-977270c2-7325-4533-9d4e-e14220997eae')\"\n",
              "            title=\"Suggest charts\"\n",
              "            style=\"display:none;\">\n",
              "\n",
              "<svg xmlns=\"http://www.w3.org/2000/svg\" height=\"24px\"viewBox=\"0 0 24 24\"\n",
              "     width=\"24px\">\n",
              "    <g>\n",
              "        <path d=\"M19 3H5c-1.1 0-2 .9-2 2v14c0 1.1.9 2 2 2h14c1.1 0 2-.9 2-2V5c0-1.1-.9-2-2-2zM9 17H7v-7h2v7zm4 0h-2V7h2v10zm4 0h-2v-4h2v4z\"/>\n",
              "    </g>\n",
              "</svg>\n",
              "  </button>\n",
              "\n",
              "<style>\n",
              "  .colab-df-quickchart {\n",
              "      --bg-color: #E8F0FE;\n",
              "      --fill-color: #1967D2;\n",
              "      --hover-bg-color: #E2EBFA;\n",
              "      --hover-fill-color: #174EA6;\n",
              "      --disabled-fill-color: #AAA;\n",
              "      --disabled-bg-color: #DDD;\n",
              "  }\n",
              "\n",
              "  [theme=dark] .colab-df-quickchart {\n",
              "      --bg-color: #3B4455;\n",
              "      --fill-color: #D2E3FC;\n",
              "      --hover-bg-color: #434B5C;\n",
              "      --hover-fill-color: #FFFFFF;\n",
              "      --disabled-bg-color: #3B4455;\n",
              "      --disabled-fill-color: #666;\n",
              "  }\n",
              "\n",
              "  .colab-df-quickchart {\n",
              "    background-color: var(--bg-color);\n",
              "    border: none;\n",
              "    border-radius: 50%;\n",
              "    cursor: pointer;\n",
              "    display: none;\n",
              "    fill: var(--fill-color);\n",
              "    height: 32px;\n",
              "    padding: 0;\n",
              "    width: 32px;\n",
              "  }\n",
              "\n",
              "  .colab-df-quickchart:hover {\n",
              "    background-color: var(--hover-bg-color);\n",
              "    box-shadow: 0 1px 2px rgba(60, 64, 67, 0.3), 0 1px 3px 1px rgba(60, 64, 67, 0.15);\n",
              "    fill: var(--button-hover-fill-color);\n",
              "  }\n",
              "\n",
              "  .colab-df-quickchart-complete:disabled,\n",
              "  .colab-df-quickchart-complete:disabled:hover {\n",
              "    background-color: var(--disabled-bg-color);\n",
              "    fill: var(--disabled-fill-color);\n",
              "    box-shadow: none;\n",
              "  }\n",
              "\n",
              "  .colab-df-spinner {\n",
              "    border: 2px solid var(--fill-color);\n",
              "    border-color: transparent;\n",
              "    border-bottom-color: var(--fill-color);\n",
              "    animation:\n",
              "      spin 1s steps(1) infinite;\n",
              "  }\n",
              "\n",
              "  @keyframes spin {\n",
              "    0% {\n",
              "      border-color: transparent;\n",
              "      border-bottom-color: var(--fill-color);\n",
              "      border-left-color: var(--fill-color);\n",
              "    }\n",
              "    20% {\n",
              "      border-color: transparent;\n",
              "      border-left-color: var(--fill-color);\n",
              "      border-top-color: var(--fill-color);\n",
              "    }\n",
              "    30% {\n",
              "      border-color: transparent;\n",
              "      border-left-color: var(--fill-color);\n",
              "      border-top-color: var(--fill-color);\n",
              "      border-right-color: var(--fill-color);\n",
              "    }\n",
              "    40% {\n",
              "      border-color: transparent;\n",
              "      border-right-color: var(--fill-color);\n",
              "      border-top-color: var(--fill-color);\n",
              "    }\n",
              "    60% {\n",
              "      border-color: transparent;\n",
              "      border-right-color: var(--fill-color);\n",
              "    }\n",
              "    80% {\n",
              "      border-color: transparent;\n",
              "      border-right-color: var(--fill-color);\n",
              "      border-bottom-color: var(--fill-color);\n",
              "    }\n",
              "    90% {\n",
              "      border-color: transparent;\n",
              "      border-bottom-color: var(--fill-color);\n",
              "    }\n",
              "  }\n",
              "</style>\n",
              "\n",
              "  <script>\n",
              "    async function quickchart(key) {\n",
              "      const quickchartButtonEl =\n",
              "        document.querySelector('#' + key + ' button');\n",
              "      quickchartButtonEl.disabled = true;  // To prevent multiple clicks.\n",
              "      quickchartButtonEl.classList.add('colab-df-spinner');\n",
              "      try {\n",
              "        const charts = await google.colab.kernel.invokeFunction(\n",
              "            'suggestCharts', [key], {});\n",
              "      } catch (error) {\n",
              "        console.error('Error during call to suggestCharts:', error);\n",
              "      }\n",
              "      quickchartButtonEl.classList.remove('colab-df-spinner');\n",
              "      quickchartButtonEl.classList.add('colab-df-quickchart-complete');\n",
              "    }\n",
              "    (() => {\n",
              "      let quickchartButtonEl =\n",
              "        document.querySelector('#df-977270c2-7325-4533-9d4e-e14220997eae button');\n",
              "      quickchartButtonEl.style.display =\n",
              "        google.colab.kernel.accessAllowed ? 'block' : 'none';\n",
              "    })();\n",
              "  </script>\n",
              "</div>\n",
              "    </div>\n",
              "  </div>\n"
            ],
            "application/vnd.google.colaboratory.intrinsic+json": {
              "type": "dataframe",
              "variable_name": "final_df",
              "summary": "{\n  \"name\": \"final_df\",\n  \"rows\": 155,\n  \"fields\": [\n    {\n      \"column\": \"full_name\",\n      \"properties\": {\n        \"dtype\": \"category\",\n        \"num_unique_values\": 5,\n        \"samples\": [\n          \"BenjaSOL/ore-cli-gpu\",\n          \"tsoding/good_training_language\",\n          \"bluskript/nix-inspect\"\n        ],\n        \"semantic_type\": \"\",\n        \"description\": \"\"\n      }\n    },\n    {\n      \"column\": \"date\",\n      \"properties\": {\n        \"dtype\": \"object\",\n        \"num_unique_values\": 45,\n        \"samples\": [\n          \"2024-05-14\",\n          \"2024-04-30\",\n          \"2024-05-01\"\n        ],\n        \"semantic_type\": \"\",\n        \"description\": \"\"\n      }\n    },\n    {\n      \"column\": \"stargazers_count\",\n      \"properties\": {\n        \"dtype\": \"number\",\n        \"std\": 22,\n        \"min\": 0,\n        \"max\": 115,\n        \"num_unique_values\": 32,\n        \"samples\": [\n          56,\n          68,\n          115\n        ],\n        \"semantic_type\": \"\",\n        \"description\": \"\"\n      }\n    },\n    {\n      \"column\": \"days_since_creation\",\n      \"properties\": {\n        \"dtype\": \"number\",\n        \"std\": 8,\n        \"min\": 0,\n        \"max\": 30,\n        \"num_unique_values\": 31,\n        \"samples\": [\n          27,\n          15,\n          23\n        ],\n        \"semantic_type\": \"\",\n        \"description\": \"\"\n      }\n    },\n    {\n      \"column\": \"average_bc\",\n      \"properties\": {\n        \"dtype\": \"number\",\n        \"std\": 0.0036561510167069733,\n        \"min\": 0.0,\n        \"max\": 0.0376478644676185,\n        \"num_unique_values\": 43,\n        \"samples\": [\n          0.0003266182419091,\n          0.0008228569472813,\n          0.0043211573090857\n        ],\n        \"semantic_type\": \"\",\n        \"description\": \"\"\n      }\n    }\n  ]\n}"
            }
          },
          "metadata": {},
          "execution_count": 3
        }
      ]
    },
    {
      "cell_type": "code",
      "source": [
        "from keras.callbacks import EarlyStopping\n",
        "from sklearn.metrics import mean_squared_error, mean_absolute_error, r2_score, mean_absolute_percentage_error\n",
        "from keras.layers import LSTM, Dropout, Dense"
      ],
      "metadata": {
        "id": "MCS--AI3FNSy"
      },
      "execution_count": null,
      "outputs": []
    },
    {
      "cell_type": "code",
      "source": [
        "final_df = pd.read_csv('/content/drive/MyDrive/PMF 2 4/STROJNO + MREŽE/Projekt_v2/final_for_LSTM.csv')"
      ],
      "metadata": {
        "id": "IwJI7VR-B-5q"
      },
      "execution_count": null,
      "outputs": []
    },
    {
      "cell_type": "code",
      "source": [
        "def create_sequences(data, sequence_length):\n",
        "    X = []\n",
        "    y = []\n",
        "    for i in range(len(data) - sequence_length):\n",
        "        X.append(data[i:i+sequence_length])\n",
        "        y.append(data[i+sequence_length, -1])\n",
        "    return np.array(X), np.array(y)"
      ],
      "metadata": {
        "id": "-ZHDvPl9vxnA"
      },
      "execution_count": null,
      "outputs": []
    },
    {
      "cell_type": "code",
      "source": [
        "all_X = []\n",
        "all_y = []\n",
        "\n",
        "for repo in final_df['full_name'].unique():\n",
        "    repo_data = final_df[final_df['full_name'] == repo]\n",
        "\n",
        "    scaler = MinMaxScaler()\n",
        "    scaled_data = scaler.fit_transform(repo_data[['days_since_creation', 'stargazers_count', 'average_bc']])\n",
        "\n",
        "    X, y = create_sequences(scaled_data, sequence_length=30)\n",
        "\n",
        "    all_X.append(X)\n",
        "    all_y.append(y)\n",
        "\n",
        "X = np.vstack(all_X)\n",
        "y = np.concatenate(all_y)"
      ],
      "metadata": {
        "id": "9SD6ig4Pv5V5"
      },
      "execution_count": null,
      "outputs": []
    },
    {
      "cell_type": "code",
      "source": [
        "train_size = int(len(X) * 0.8)\n",
        "X_train, X_test = X[:train_size], X[train_size:]\n",
        "y_train, y_test = y[:train_size], y[train_size:]\n",
        "\n",
        "print(f'X_train shape: {X_train.shape}')\n",
        "print(f'X_test shape: {X_test.shape}')\n",
        "print(f'y_train shape: {y_train.shape}')\n",
        "print(f'y_test shape: {y_test.shape}')\n",
        "\n",
        "model = Sequential()\n",
        "model.add(LSTM(100, return_sequences=True, input_shape=(X_train.shape[1], X_train.shape[2])))\n",
        "model.add(Dropout(0.3))\n",
        "model.add(LSTM(50))\n",
        "model.add(Dropout(0.3))\n",
        "model.add(Dense(1))"
      ],
      "metadata": {
        "colab": {
          "base_uri": "https://localhost:8080/"
        },
        "id": "Yp14Fnynwh05",
        "outputId": "f7060168-61be-47dd-d5ea-74337dd968ab"
      },
      "execution_count": null,
      "outputs": [
        {
          "output_type": "stream",
          "name": "stdout",
          "text": [
            "X_train shape: (4, 30, 3)\n",
            "X_test shape: (1, 30, 3)\n",
            "y_train shape: (4,)\n",
            "y_test shape: (1,)\n"
          ]
        }
      ]
    },
    {
      "cell_type": "code",
      "source": [
        "model.compile(optimizer='adam', loss='mean_squared_error')\n",
        "\n",
        "early_stop = EarlyStopping(monitor='val_loss', patience=10, restore_best_weights=True)\n",
        "\n",
        "history = model.fit(X_train, y_train, epochs=100, batch_size=32, validation_split=0.2, callbacks=[early_stop], verbose=2)\n",
        "\n",
        "predictions = model.predict(X_test)\n",
        "\n",
        "predictions_rescaled = scaler.inverse_transform(np.concatenate((np.zeros((predictions.shape[0], scaled_data.shape[1]-1)), predictions), axis=1))[:, -1]\n",
        "y_test_rescaled = scaler.inverse_transform(np.concatenate((np.zeros((y_test.shape[0], scaled_data.shape[1]-1)), y_test.reshape(-1, 1)), axis=1))[:, -1]"
      ],
      "metadata": {
        "colab": {
          "base_uri": "https://localhost:8080/"
        },
        "id": "lh4z7QCOVL4k",
        "outputId": "ba3074d2-d52d-494e-95ae-1fdbf9cbb954"
      },
      "execution_count": null,
      "outputs": [
        {
          "output_type": "stream",
          "name": "stdout",
          "text": [
            "Epoch 1/100\n",
            "1/1 - 6s - loss: 0.2063 - val_loss: 0.0164 - 6s/epoch - 6s/step\n",
            "Epoch 2/100\n",
            "1/1 - 0s - loss: 0.1277 - val_loss: 0.0474 - 75ms/epoch - 75ms/step\n",
            "Epoch 3/100\n",
            "1/1 - 0s - loss: 0.1511 - val_loss: 0.0953 - 63ms/epoch - 63ms/step\n",
            "Epoch 4/100\n",
            "1/1 - 0s - loss: 0.2108 - val_loss: 0.1273 - 59ms/epoch - 59ms/step\n",
            "Epoch 5/100\n",
            "1/1 - 0s - loss: 0.1712 - val_loss: 0.1263 - 58ms/epoch - 58ms/step\n",
            "Epoch 6/100\n",
            "1/1 - 0s - loss: 0.1423 - val_loss: 0.1222 - 85ms/epoch - 85ms/step\n",
            "Epoch 7/100\n",
            "1/1 - 0s - loss: 0.1771 - val_loss: 0.1088 - 60ms/epoch - 60ms/step\n",
            "Epoch 8/100\n",
            "1/1 - 0s - loss: 0.2056 - val_loss: 0.0965 - 59ms/epoch - 59ms/step\n",
            "Epoch 9/100\n",
            "1/1 - 0s - loss: 0.1154 - val_loss: 0.0885 - 75ms/epoch - 75ms/step\n",
            "Epoch 10/100\n",
            "1/1 - 0s - loss: 0.2541 - val_loss: 0.0807 - 59ms/epoch - 59ms/step\n",
            "Epoch 11/100\n",
            "1/1 - 0s - loss: 0.1932 - val_loss: 0.0731 - 112ms/epoch - 112ms/step\n",
            "1/1 [==============================] - 1s 912ms/step\n"
          ]
        }
      ]
    },
    {
      "cell_type": "code",
      "source": [
        "rmse = np.sqrt(mean_squared_error(y_test_rescaled, predictions_rescaled))\n",
        "r2 = r2_score(y_test_rescaled, predictions_rescaled)\n",
        "mape = mean_absolute_percentage_error(y_test_rescaled, predictions_rescaled)\n",
        "print(f'RMSE: {rmse}')\n",
        "print(f'R-squared (R2): {r2}')\n",
        "print(f'MAPE: {mape}')"
      ],
      "metadata": {
        "colab": {
          "base_uri": "https://localhost:8080/"
        },
        "id": "pSM2QzEbwnsZ",
        "outputId": "b8e3f170-9145-46c6-98c0-653d4d639256"
      },
      "execution_count": null,
      "outputs": [
        {
          "output_type": "stream",
          "name": "stdout",
          "text": [
            "RMSE: 0.002545796825955642\n",
            "R-squared (R2): nan\n",
            "MAPE: 11465249636734.82\n"
          ]
        },
        {
          "output_type": "stream",
          "name": "stderr",
          "text": [
            "/usr/local/lib/python3.10/dist-packages/sklearn/metrics/_regression.py:918: UndefinedMetricWarning: R^2 score is not well-defined with less than two samples.\n",
            "  warnings.warn(msg, UndefinedMetricWarning)\n"
          ]
        }
      ]
    },
    {
      "cell_type": "code",
      "source": [],
      "metadata": {
        "id": "7GVUBWuRGbvR"
      },
      "execution_count": null,
      "outputs": []
    },
    {
      "cell_type": "code",
      "source": [],
      "metadata": {
        "id": "X3ZHcICwU_6Z"
      },
      "execution_count": null,
      "outputs": []
    }
  ]
}